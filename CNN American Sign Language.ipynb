{
 "cells": [
  {
   "cell_type": "markdown",
   "metadata": {
    "id": "DJFsOmcIr50x"
   },
   "source": [
    "UTS Deep Learning\n",
    "\n",
    "Nomor 2\n",
    "\n",
    "Nama: Rio Pramana\n",
    "\n",
    "NIM: 2440016804\n",
    "\n",
    "Kelas: LA01"
   ]
  },
  {
   "cell_type": "markdown",
   "metadata": {
    "id": "wYvMJxL-r9t1"
   },
   "source": [
    "Untuk penjelasan code akan diberikan melalui markdown cell dan comment pada code"
   ]
  },
  {
   "cell_type": "markdown",
   "metadata": {
    "id": "JeUmSAOSUUcr"
   },
   "source": [
    "**Import libraries**"
   ]
  },
  {
   "cell_type": "code",
   "execution_count": 1,
   "metadata": {
    "id": "RqhMRl7oUaNP"
   },
   "outputs": [],
   "source": [
    "%matplotlib inline\n",
    "import numpy as np\n",
    "from sklearn.metrics import classification_report\n",
    "\n",
    "# Using tensorflow & keras\n",
    "import tensorflow as tf\n",
    "from keras.preprocessing.image import ImageDataGenerator\n",
    "from keras.callbacks import ReduceLROnPlateau\n",
    "\n",
    "# Untuk keperluan directory/files\n",
    "import os\n",
    "import shutil # Untuk copy files\n",
    "\n",
    "import matplotlib.pyplot as plt # Untuk visualisasi"
   ]
  },
  {
   "cell_type": "markdown",
   "metadata": {
    "id": "lxKfYtUhTzFe"
   },
   "source": [
    "**Upload Data**"
   ]
  },
  {
   "cell_type": "markdown",
   "metadata": {
    "id": "5SUoKLMOsPaD"
   },
   "source": [
    "**Please only run this if the code block below is executed in Google Colab**\n",
    "\n",
    "**Otherwise, please ignore this code block below**"
   ]
  },
  {
   "cell_type": "markdown",
   "metadata": {
    "id": "MvqukKPXsRby"
   },
   "source": [
    "To upload data in google colab:"
   ]
  },
  {
   "cell_type": "code",
   "execution_count": 2,
   "metadata": {
    "colab": {
     "base_uri": "https://localhost:8080/",
     "height": 56
    },
    "id": "cFCAVLWETLXI",
    "outputId": "0345367f-23e6-4139-8780-953f0a454314"
   },
   "outputs": [],
   "source": [
    "# # only run this in google colab to upload data\n",
    "# from google.colab import files\n",
    "\n",
    "# uploaded = files.upload()\n",
    "\n",
    "# for fn in uploaded.keys():\n",
    "#   print('User uploaded file \"{name}\" with length {length} bytes'.format(\n",
    "#       name=fn, length=len(uploaded[fn])))"
   ]
  },
  {
   "cell_type": "markdown",
   "metadata": {
    "id": "Tw1VPOl_sUYr"
   },
   "source": [
    "If the uploaded data is still in .zip form, then unzip it first using this code: (**this code block only works in google colab**)\n",
    "\n",
    "(**Jika file dataset .zip sudah diextract sebelumnya, please ignore this code block below**)"
   ]
  },
  {
   "cell_type": "code",
   "execution_count": 3,
   "metadata": {
    "id": "Fn4bcuxpT9kP",
    "outputId": "87b02eff-661b-4caa-d70c-f2d97cba635a"
   },
   "outputs": [],
   "source": [
    "# !unzip ASL.zip"
   ]
  },
  {
   "cell_type": "markdown",
   "metadata": {
    "id": "Bf9Ed_QJsmNY"
   },
   "source": [
    "**Please only run this if the code block below is executed in Jupyter Notebook**\n",
    "\n",
    "**Otherwise, please ignore this code block below**"
   ]
  },
  {
   "cell_type": "markdown",
   "metadata": {
    "id": "vILWH-Zbsqn2"
   },
   "source": [
    "(Di jupyter notebook, kita tidak perlu mengupload data, kita cuma perlu memastikan bahwa datasetnya berada di folder yang sama dengan file .ipynb nya)"
   ]
  },
  {
   "cell_type": "markdown",
   "metadata": {
    "id": "kPLdK3qEs684"
   },
   "source": [
    "If the uploaded data is still in .zip form, then unzip it first using this code: (**this code block only works in jupyter notebook:**)\n",
    "\n",
    "(**Jika file dataset .zip sudah diextract sebelumnya, please ignore  this code block below**)"
   ]
  },
  {
   "cell_type": "code",
   "execution_count": 4,
   "metadata": {
    "id": "JarB-M4Vvhuy",
    "outputId": "f2475d44-aada-428a-e464-c56464a55a65"
   },
   "outputs": [
    {
     "name": "stdout",
     "output_type": "stream",
     "text": [
      "Unzipping: ASL.zip\n"
     ]
    }
   ],
   "source": [
    "# Libraries untuk unzipping di jupyter\n",
    "import glob\n",
    "import zipfile\n",
    "\n",
    "files = glob.glob('ASL.zip')\n",
    "\n",
    "for file in files:\n",
    "    print('Unzipping:',file)\n",
    "\n",
    "    with zipfile.ZipFile(file, 'r') as zip_ref:\n",
    "        zip_ref.extractall()"
   ]
  },
  {
   "cell_type": "markdown",
   "metadata": {
    "id": "1RumSdiAuCry"
   },
   "source": [
    "Setting random seed dengan tujuan untuk mencoba menghasilkan hasil yang sama (agar hasil memiliki kemungkinan yang lebih tinggi untuk tidak berubah setiap kali code dijalankan sehingga lebih mudah untuk dianalisis)"
   ]
  },
  {
   "cell_type": "code",
   "execution_count": 5,
   "metadata": {
    "id": "2ZXOpk75uFrl"
   },
   "outputs": [],
   "source": [
    "seed = 42\n",
    "\n",
    "np.random.seed(seed)\n",
    "tf.random.set_seed(seed)"
   ]
  },
  {
   "cell_type": "markdown",
   "metadata": {
    "id": "1tWoYuRoT_PG"
   },
   "source": [
    "# **a. Inisialisasi hyperparameter, resize gambar, dan augmentasi data dan b. Splitting dataset menjadi 80% training 20% validation**"
   ]
  },
  {
   "cell_type": "markdown",
   "metadata": {
    "id": "HiPQzulRw_wl"
   },
   "source": [
    "**Inisialisasi hyperparameter:**"
   ]
  },
  {
   "cell_type": "code",
   "execution_count": 6,
   "metadata": {
    "id": "x1SdscBnUDdy"
   },
   "outputs": [],
   "source": [
    "# Karena jumlah data sangat besar, maka saya set batch_size = 512\n",
    "batch_size = 512\n",
    "n_features = 64 # Output features layer pertama\n",
    "# Sesuai permintaan soal, program ini hanya bekerja pada alfabet\n",
    "nb_classes = 26  # 26 English Alphabet letters from A to Z\n",
    "# Seperti pada nomor 1, disarankan epochs = features * 3..\n",
    "# ..Namun, karena nilainya terlalu besar, maka saya ubah menjadi 20\n",
    "epochs = 20\n",
    "\n",
    "# Dimensions of the input images (200x200 pixels)\n",
    "img_rows, img_cols = 200, 200\n",
    "resized_dim = 64 # Dimensi resized image\n",
    "\n",
    "# Arsitektur baseline\n",
    "first_kernel_size = (5, 5) # Size kernel pertama\n",
    "second_kernel_size = (3, 3) # Size kernel selanjutnya"
   ]
  },
  {
   "cell_type": "code",
   "execution_count": 7,
   "metadata": {},
   "outputs": [],
   "source": [
    "true_classes = [] # List untuk menyimpan classes test"
   ]
  },
  {
   "cell_type": "markdown",
   "metadata": {
    "id": "trvSwwbu1azK"
   },
   "source": [
    "Sebelum melakukan preprocessing dan splitting dataset, terdapat suatu masalah pada dataset yang diberikan\n",
    "\n",
    "Pada folder data test, tidak terdapat subfolders sebagai indikator ground truth masing-masing image test seperti pada folder data train\n",
    "\n",
    "Maka, untuk mempermudah pembuatan model, saya buat terlebih dahulu subfolders untuk data test (menggunakan code python):"
   ]
  },
  {
   "cell_type": "code",
   "execution_count": 8,
   "metadata": {
    "id": "iCc6k_ZTU6RG",
    "outputId": "cdcec93b-daad-4dda-d536-62714a2806dd"
   },
   "outputs": [
    {
     "name": "stdout",
     "output_type": "stream",
     "text": [
      "All files copied to the subfolders\n"
     ]
    }
   ],
   "source": [
    "if len(true_classes) == 0: # Kondisi agar code ini tidak berjalan lebih dari 1 kali\n",
    "  test_data_dir = 'ALS/asl_alphabet_test/asl_alphabet_test/' # Path folder test\n",
    "  directory = os.fsencode(test_data_dir)\n",
    "\n",
    "  # For every image file in the test folder:\n",
    "  for file in os.listdir(directory):\n",
    "    # Get the filename\n",
    "    filename = os.fsdecode(file)\n",
    "    # Get the class/ground truth from the file name using split\n",
    "    curr = filename.split('_')[0]\n",
    "    true_classes.append(curr) # Tambahkan ke list true_classes\n",
    "    # Create a string to make a new subfolder for each test class\n",
    "    dire = os.path.join(test_data_dir + curr)\n",
    "    # Create a string to get the image path\n",
    "    src = os.path.join(test_data_dir + filename)\n",
    "    # If the dire is not already a subfolder, then make a subfolder\n",
    "    if not os.path.isdir(dire):\n",
    "      os.mkdir(dire)\n",
    "    # After the folder is made, copy the test image inside the subfolder\n",
    "    shutil.copy(src, dire)\n",
    "\n",
    "  # Every subfolder for test classes has been made\n",
    "  print(\"All files copied to the subfolders\")"
   ]
  },
  {
   "cell_type": "markdown",
   "metadata": {
    "id": "WxoUX5P5WqQE"
   },
   "source": [
    "**Data Augmentation dan resolusi gambar menjadi 64 x 64, serta splitting dataset:**"
   ]
  },
  {
   "cell_type": "markdown",
   "metadata": {
    "id": "U5GgaY7K2g-C"
   },
   "source": [
    "Pada keras, terdapat ImageDataGenerator yang dapat melakukan preprocessing dan augmentasi data pada data-data images yang kita miliki\n",
    "\n",
    "ImageDataGenerator ini juga sekaligus bisa digunakan untuk melakukan splitting test set dan validation set\n",
    "\n",
    "Maka, kedua proses tersebut saya jadikan 1 pada code block dibawah ini"
   ]
  },
  {
   "cell_type": "markdown",
   "metadata": {
    "id": "olE4hPnH25V4"
   },
   "source": [
    "Augmentasi data hanya boleh dilakukan untuk train set saja\n",
    "\n",
    "Untuk train set, saya terapkan beberapa seperti 10% rotation range, zoom range, width_shift range, dan height_shift_range\n",
    "\n",
    "Sedangkan horizontal dan vertical flip di set menjadi false karena ditakutkan dapat menyebabkan misclassification (karena posisi tangan sangat penting untuk menentukan ASL)\n",
    "\n",
    "Kemudian rescale dilakukan untuk seluruh dataset agar scalenya menjadi 0 - 1\n",
    "\n",
    "Untuk training dan validation, dilakukan split menjadi rasio 80-20"
   ]
  },
  {
   "cell_type": "code",
   "execution_count": 9,
   "metadata": {
    "id": "MMxTgA-NWwsc",
    "outputId": "30b3eb5d-afb8-492b-ef2f-ed5e17aeb52c"
   },
   "outputs": [],
   "source": [
    "train_dir = 'ALS/asl_alphabet_train/asl_alphabet_train/'\n",
    "test_dir = 'ALS/asl_alphabet_test/asl_alphabet_test'\n",
    "\n",
    "train_datagen = ImageDataGenerator(\n",
    "    rotation_range=10,  # randomly rotate images in the range\n",
    "    zoom_range=0.1, # Randomly zoom image \n",
    "    width_shift_range=0.1,  # randomly shift images horizontally (fraction of total width)\n",
    "    height_shift_range=0.1,  # randomly shift images vertically (fraction of total height)\n",
    "    horizontal_flip=False,  # randomly flip images\n",
    "    vertical_flip=False,\n",
    "    rescale=1./255,\n",
    "    validation_split=0.2 # set validation split\n",
    ")\n",
    "\n",
    "val_datagen = ImageDataGenerator(\n",
    "    rescale=1./255,\n",
    "    validation_split=0.2 # set validation split\n",
    ")\n",
    "\n",
    "test_datagen = ImageDataGenerator(\n",
    "    rescale=1./255\n",
    ")"
   ]
  },
  {
   "cell_type": "markdown",
   "metadata": {
    "id": "OlQFV-ZP35l8"
   },
   "source": [
    "Set generator untuk masing-masing dataset agar bisa digunakan untuk training, validating, dan testing model\n",
    "\n",
    "Pada code ini, dilakukan **resize image** menjadi 64 x 64, penentuan batch_size, dan perubahan color mode image menjadi grayscale (agar lebih sederhana untuk diproses)\n",
    "\n",
    "Untuk benar-benar menerapkan split antara train dan validation (tanpa data leakage), saya set keduanya untuk memiliki seed yang sama, serta menyatakan subsetnya masing-masing\n",
    "\n",
    "Khusus batch_size test set, di set menjadi 1 (tes data test satu per satu)"
   ]
  },
  {
   "cell_type": "code",
   "execution_count": 10,
   "metadata": {
    "id": "kFLJAceA34qK"
   },
   "outputs": [
    {
     "name": "stdout",
     "output_type": "stream",
     "text": [
      "Found 20800 images belonging to 26 classes.\n",
      "Found 5200 images belonging to 26 classes.\n",
      "Found 28 images belonging to 28 classes.\n"
     ]
    }
   ],
   "source": [
    "train_generator = train_datagen.flow_from_directory(\n",
    "    train_dir,\n",
    "    seed = 42,\n",
    "    target_size=(resized_dim, resized_dim),\n",
    "    batch_size=batch_size,\n",
    "    color_mode = 'grayscale',\n",
    "    class_mode='categorical',\n",
    "    shuffle = True,\n",
    "    subset='training') # set as training data\n",
    "\n",
    "validation_generator = val_datagen.flow_from_directory(\n",
    "    train_dir, # same directory as training data\n",
    "    seed = 42,\n",
    "    target_size=(resized_dim, resized_dim),\n",
    "    batch_size=batch_size,\n",
    "    color_mode = 'grayscale',\n",
    "    class_mode='categorical',\n",
    "    shuffle = True,\n",
    "    subset='validation') # set as validation data\n",
    "\n",
    "test_generator = test_datagen.flow_from_directory(\n",
    "    test_dir,\n",
    "    target_size=(resized_dim, resized_dim),\n",
    "    batch_size=1,\n",
    "    color_mode = 'grayscale',\n",
    "    shuffle = False,\n",
    "    class_mode=None)"
   ]
  },
  {
   "cell_type": "markdown",
   "metadata": {
    "id": "Vdhvp9yq5T5O"
   },
   "source": [
    "Atur steps per epoch untuk setiap dataset menggunakan rumus:"
   ]
  },
  {
   "cell_type": "code",
   "execution_count": 11,
   "metadata": {
    "id": "HHFa0n0Bl05-"
   },
   "outputs": [],
   "source": [
    "train_steps = train_generator.samples // batch_size\n",
    "val_steps = validation_generator.samples // batch_size\n",
    "test_steps = test_generator.n // test_generator.batch_size"
   ]
  },
  {
   "cell_type": "markdown",
   "metadata": {
    "id": "DAfOJoaeXDql"
   },
   "source": [
    "# **c. Buat arsitektur baseline**"
   ]
  },
  {
   "cell_type": "markdown",
   "metadata": {
    "id": "xObt8JH35jP1"
   },
   "source": [
    "Untuk layer pertama, output features layernya sesuai resolusi gambar yaitu 64, kemudian untuk setiap layer selanjutnya akan dibagi 2\n",
    "\n",
    "Untuk shape layer Dense, saya asumsikan sama untuk kedua layer seperti pada ilustrasi di soal"
   ]
  },
  {
   "cell_type": "code",
   "execution_count": 12,
   "metadata": {
    "id": "J5Pb0F8HXCx2"
   },
   "outputs": [],
   "source": [
    "n_features = 64\n",
    "baseline_model = tf.keras.Sequential()\n",
    "\n",
    "# Conv2D pertama + activation relu\n",
    "baseline_model.add(tf.keras.layers.Conv2D(n_features, first_kernel_size, input_shape=[resized_dim, resized_dim, 1], padding='same', activation='relu'))\n",
    "# MaxPooling2D pertama\n",
    "baseline_model.add(tf.keras.layers.MaxPooling2D(pool_size=(2, 2)))\n",
    "n_features /= 2 # Bagi n_features dengan 2\n",
    "\n",
    "# Conv2D kedua + activation relu\n",
    "baseline_model.add(tf.keras.layers.Conv2D(n_features, second_kernel_size, padding='same', activation='relu'))\n",
    "# MaxPooling2D kedua\n",
    "baseline_model.add(tf.keras.layers.MaxPooling2D(pool_size=(2, 2)))\n",
    "n_features /= 2\n",
    "\n",
    "# Conv2D ketiga + activation relu\n",
    "baseline_model.add(tf.keras.layers.Conv2D(n_features, second_kernel_size, activation='relu'))\n",
    "# MaxPooling2D ketiga\n",
    "baseline_model.add(tf.keras.layers.MaxPooling2D(pool_size=(2, 2)))\n",
    "\n",
    "# Flatten\n",
    "baseline_model.add(tf.keras.layers.Flatten())\n",
    "\n",
    "# Dense\n",
    "baseline_model.add(tf.keras.layers.Dense(nb_classes, activation='relu'))\n",
    "baseline_model.add(tf.keras.layers.Dense(nb_classes, activation='softmax'))"
   ]
  },
  {
   "cell_type": "code",
   "execution_count": 13,
   "metadata": {
    "id": "OC8IUbqwlUJu",
    "outputId": "bce35ef9-d033-43fc-83d3-c680f0c244e5"
   },
   "outputs": [
    {
     "name": "stdout",
     "output_type": "stream",
     "text": [
      "Model: \"sequential\"\n",
      "_________________________________________________________________\n",
      " Layer (type)                Output Shape              Param #   \n",
      "=================================================================\n",
      " conv2d (Conv2D)             (None, 64, 64, 64)        1664      \n",
      "                                                                 \n",
      " max_pooling2d (MaxPooling2D  (None, 32, 32, 64)       0         \n",
      " )                                                               \n",
      "                                                                 \n",
      " conv2d_1 (Conv2D)           (None, 32, 32, 32)        18464     \n",
      "                                                                 \n",
      " max_pooling2d_1 (MaxPooling  (None, 16, 16, 32)       0         \n",
      " 2D)                                                             \n",
      "                                                                 \n",
      " conv2d_2 (Conv2D)           (None, 14, 14, 16)        4624      \n",
      "                                                                 \n",
      " max_pooling2d_2 (MaxPooling  (None, 7, 7, 16)         0         \n",
      " 2D)                                                             \n",
      "                                                                 \n",
      " flatten (Flatten)           (None, 784)               0         \n",
      "                                                                 \n",
      " dense (Dense)               (None, 26)                20410     \n",
      "                                                                 \n",
      " dense_1 (Dense)             (None, 26)                702       \n",
      "                                                                 \n",
      "=================================================================\n",
      "Total params: 45,864\n",
      "Trainable params: 45,864\n",
      "Non-trainable params: 0\n",
      "_________________________________________________________________\n"
     ]
    }
   ],
   "source": [
    "baseline_model.compile(loss='categorical_crossentropy', optimizer=\"SGD\", metrics=[\"accuracy\"])\n",
    "baseline_model.summary()"
   ]
  },
  {
   "cell_type": "markdown",
   "metadata": {
    "id": "D2FA_tQympNm"
   },
   "source": [
    "**Train baseline model**"
   ]
  },
  {
   "cell_type": "code",
   "execution_count": 14,
   "metadata": {
    "id": "dcMLHHhRlkcs",
    "outputId": "d8343c12-0270-4ab4-fcb9-1750e36034d7",
    "scrolled": true
   },
   "outputs": [
    {
     "name": "stdout",
     "output_type": "stream",
     "text": [
      "Epoch 1/20\n",
      "40/40 [==============================] - 244s 6s/step - loss: 3.2587 - accuracy: 0.0439 - val_loss: 3.2580 - val_accuracy: 0.0609\n",
      "Epoch 2/20\n",
      "40/40 [==============================] - 61s 2s/step - loss: 3.2579 - accuracy: 0.0470 - val_loss: 3.2573 - val_accuracy: 0.0723\n",
      "Epoch 3/20\n",
      "40/40 [==============================] - 65s 2s/step - loss: 3.2575 - accuracy: 0.0511 - val_loss: 3.2565 - val_accuracy: 0.0785\n",
      "Epoch 4/20\n",
      "40/40 [==============================] - 66s 2s/step - loss: 3.2569 - accuracy: 0.0539 - val_loss: 3.2560 - val_accuracy: 0.0828\n",
      "Epoch 5/20\n",
      "40/40 [==============================] - 66s 2s/step - loss: 3.2566 - accuracy: 0.0569 - val_loss: 3.2553 - val_accuracy: 0.0842\n",
      "Epoch 6/20\n",
      "40/40 [==============================] - 66s 2s/step - loss: 3.2560 - accuracy: 0.0624 - val_loss: 3.2547 - val_accuracy: 0.0889\n",
      "Epoch 7/20\n",
      "40/40 [==============================] - 65s 2s/step - loss: 3.2559 - accuracy: 0.0618 - val_loss: 3.2545 - val_accuracy: 0.0861\n",
      "Epoch 8/20\n",
      "40/40 [==============================] - 66s 2s/step - loss: 3.2556 - accuracy: 0.0673 - val_loss: 3.2541 - val_accuracy: 0.0900\n",
      "Epoch 9/20\n",
      "40/40 [==============================] - 66s 2s/step - loss: 3.2551 - accuracy: 0.0678 - val_loss: 3.2538 - val_accuracy: 0.0916\n",
      "Epoch 10/20\n",
      "40/40 [==============================] - 83s 2s/step - loss: 3.2547 - accuracy: 0.0696 - val_loss: 3.2534 - val_accuracy: 0.0932\n",
      "Epoch 11/20\n",
      "40/40 [==============================] - 72s 2s/step - loss: 3.2543 - accuracy: 0.0739 - val_loss: 3.2530 - val_accuracy: 0.0951\n",
      "Epoch 12/20\n",
      "40/40 [==============================] - 65s 2s/step - loss: 3.2537 - accuracy: 0.0730 - val_loss: 3.2528 - val_accuracy: 0.0963\n",
      "Epoch 13/20\n",
      "40/40 [==============================] - 66s 2s/step - loss: 3.2533 - accuracy: 0.0743 - val_loss: 3.2523 - val_accuracy: 0.0912\n",
      "Epoch 14/20\n",
      "40/40 [==============================] - 76s 2s/step - loss: 3.2528 - accuracy: 0.0746 - val_loss: 3.2519 - val_accuracy: 0.0920\n",
      "Epoch 15/20\n",
      "40/40 [==============================] - 110s 3s/step - loss: 3.2522 - accuracy: 0.0722 - val_loss: 3.2512 - val_accuracy: 0.0904\n",
      "Epoch 16/20\n",
      "40/40 [==============================] - 86s 2s/step - loss: 3.2512 - accuracy: 0.0755 - val_loss: 3.2506 - val_accuracy: 0.0912\n",
      "Epoch 17/20\n",
      "40/40 [==============================] - 81s 2s/step - loss: 3.2503 - accuracy: 0.0779 - val_loss: 3.2498 - val_accuracy: 0.0898\n",
      "Epoch 18/20\n",
      "40/40 [==============================] - 74s 2s/step - loss: 3.2494 - accuracy: 0.0781 - val_loss: 3.2488 - val_accuracy: 0.0904\n",
      "Epoch 19/20\n",
      "40/40 [==============================] - 68s 2s/step - loss: 3.2483 - accuracy: 0.0779 - val_loss: 3.2479 - val_accuracy: 0.0867\n",
      "Epoch 20/20\n",
      "40/40 [==============================] - 66s 2s/step - loss: 3.2469 - accuracy: 0.0775 - val_loss: 3.2466 - val_accuracy: 0.0848\n"
     ]
    }
   ],
   "source": [
    "baseline_history = baseline_model.fit(\n",
    "      train_generator,\n",
    "      steps_per_epoch = train_steps,\n",
    "      validation_data = validation_generator, \n",
    "      validation_steps = val_steps,\n",
    "      epochs = epochs\n",
    "    )"
   ]
  },
  {
   "cell_type": "markdown",
   "metadata": {
    "id": "xgJKKeBPmsDG"
   },
   "source": [
    "**Evaluate baseline model (validation)**"
   ]
  },
  {
   "cell_type": "code",
   "execution_count": 15,
   "metadata": {
    "id": "BuSXNEYyV78Y"
   },
   "outputs": [
    {
     "data": {
      "image/png": "[encoded data removed]",
      "text/plain": [
       "<Figure size 1152x648 with 2 Axes>"
      ]
     },
     "metadata": {
      "needs_background": "light"
     },
     "output_type": "display_data"
    }
   ],
   "source": [
    "list_epochs = [i for i in range(epochs)]\n",
    "fig , ax = plt.subplots(1,2)\n",
    "train_acc = baseline_history.history['accuracy']\n",
    "train_loss = baseline_history.history['loss']\n",
    "val_acc = baseline_history.history['val_accuracy']\n",
    "val_loss = baseline_history.history['val_loss']\n",
    "fig.set_size_inches(16,9)\n",
    "\n",
    "ax[0].plot(list_epochs , train_acc , 'go-' , label = 'Training Accuracy')\n",
    "ax[0].plot(list_epochs , val_acc , 'ro-' , label = 'Validation Accuracy')\n",
    "ax[0].set_title('Training & Validation Accuracy')\n",
    "ax[0].legend()\n",
    "ax[0].set_xlabel(\"Epochs\")\n",
    "ax[0].set_ylabel(\"Accuracy\")\n",
    "\n",
    "ax[1].plot(list_epochs , train_loss , 'g-o' , label = 'Training Loss')\n",
    "ax[1].plot(list_epochs , val_loss , 'r-o' , label = 'Validation Loss')\n",
    "ax[1].set_title('Validation Accuracy & Loss')\n",
    "ax[1].legend()\n",
    "ax[1].set_xlabel(\"Epochs\")\n",
    "ax[1].set_ylabel(\"Loss\")\n",
    "plt.show()"
   ]
  },
  {
   "cell_type": "code",
   "execution_count": 16,
   "metadata": {
    "id": "C4mORWTfmSAS"
   },
   "outputs": [
    {
     "name": "stdout",
     "output_type": "stream",
     "text": [
      "10/10 [==============================] - 7s 661ms/step - loss: 3.2466 - accuracy: 0.0846\n",
      "Loss:  3.246601104736328\n",
      "Accuracy:  0.08457031100988388\n"
     ]
    }
   ],
   "source": [
    "score =  baseline_model.evaluate(validation_generator, steps=val_steps)\n",
    "print('Loss: ', score[0])\n",
    "print('Accuracy: ', score[1])"
   ]
  },
  {
   "cell_type": "markdown",
   "metadata": {
    "id": "XabnSVd1ngTm"
   },
   "source": [
    "# **d. Arsitektur hasil tuning**"
   ]
  },
  {
   "cell_type": "markdown",
   "metadata": {
    "id": "OJ31MTRzOZGb"
   },
   "source": [
    "Untuk tuning arsitektur, saya menambahkan dropout dan batch normalization\n",
    "\n",
    "Arsitektur NN pada code ini cukup dalam (deep) sehingga cukup rentan terhadap overfitting\n",
    "\n",
    "Maka, teknik dropout diterapkan untuk meminimalisir efek dari overfitting. Dropout dilakukan dengan mengurangi jumlah interconnecting neurons secara acak (berdasarkan probability yang ditentukan) dalam neural network. Berdasarkan sebuah studi (https://arxiv.org/pdf/1207.0580.pdf), penggunaan dropout pada setiap layer menunjukkan improvement yang cukup signifikan terhadap performa model\n",
    "\n",
    "Jadi, untuk penerapan dropout pada modified model ini, saya mencoba berbagai nilai dropout, hasil terbaik didapatkan oleh p = 0.1\n",
    "\n",
    "Kemudian, batch normalization juga dilakukan untuk menerapkan normalisasi input. Hal ini dapat mempercepat proses training model dan juga meningkatkan performa dari model.\n",
    "\n",
    "Dari sumber-sumber yang saya baca, untuk CNN lebih baik batch normalization ditempatkan antara Convolution dan MaxPooling, serta sebelum dropout"
   ]
  },
  {
   "cell_type": "code",
   "execution_count": 64,
   "metadata": {
    "id": "71J2bsupNlYO"
   },
   "outputs": [],
   "source": [
    "n_features = 64\n",
    "dropout_p = 0.1"
   ]
  },
  {
   "cell_type": "code",
   "execution_count": 65,
   "metadata": {
    "id": "6mb2IjSVnpHw"
   },
   "outputs": [],
   "source": [
    "modified_model = tf.keras.Sequential()\n",
    "\n",
    "# Conv2D pertama + activation relu\n",
    "modified_model.add(tf.keras.layers.Conv2D(n_features, first_kernel_size, input_shape=[resized_dim, resized_dim, 1], padding='same', activation='relu'))\n",
    "# MaxPooling2D pertama\n",
    "modified_model.add(tf.keras.layers.BatchNormalization())\n",
    "modified_model.add(tf.keras.layers.MaxPooling2D(pool_size=(2, 2)))\n",
    "modified_model.add(tf.keras.layers.Dropout(dropout_p))\n",
    "n_features /= 2 # Bagi n_features dengan 2\n",
    "\n",
    "# Conv2D kedua + activation relu\n",
    "modified_model.add(tf.keras.layers.Conv2D(n_features, second_kernel_size, padding='same', activation='relu'))\n",
    "modified_model.add(tf.keras.layers.BatchNormalization())\n",
    "# MaxPooling2D kedua\n",
    "modified_model.add(tf.keras.layers.MaxPooling2D(pool_size=(2, 2)))\n",
    "modified_model.add(tf.keras.layers.Dropout(dropout_p))\n",
    "n_features /= 2\n",
    "\n",
    "# Conv2D ketiga + activation relu\n",
    "modified_model.add(tf.keras.layers.Conv2D(n_features, second_kernel_size, activation='relu'))\n",
    "modified_model.add(tf.keras.layers.BatchNormalization())\n",
    "# MaxPooling2D ketiga\n",
    "modified_model.add(tf.keras.layers.MaxPooling2D(pool_size=(2, 2)))\n",
    "modified_model.add(tf.keras.layers.Dropout(dropout_p))\n",
    "\n",
    "# Flatten\n",
    "modified_model.add(tf.keras.layers.Flatten())\n",
    "\n",
    "# Dense\n",
    "modified_model.add(tf.keras.layers.Dense(32, activation='relu'))\n",
    "modified_model.add(tf.keras.layers.Dropout(dropout_p))\n",
    "modified_model.add(tf.keras.layers.Dense(nb_classes, activation='softmax'))"
   ]
  },
  {
   "cell_type": "markdown",
   "metadata": {
    "id": "SpZMZTzkTi8o"
   },
   "source": [
    "Untuk tuning, saya mencoba menggunakan optimizer adam karena optimizer adam dipercaya sebagai optimizer yang paling baik untuk classification saat ini (terutama karena NN yang digunakan juga cukup dalam/deep)\n",
    "\n",
    "Learning rate yang saya gunakan adalah 0.01"
   ]
  },
  {
   "cell_type": "code",
   "execution_count": 66,
   "metadata": {
    "id": "HFCf3SU2ny7a"
   },
   "outputs": [
    {
     "name": "stdout",
     "output_type": "stream",
     "text": [
      "Model: \"sequential_11\"\n",
      "_________________________________________________________________\n",
      " Layer (type)                Output Shape              Param #   \n",
      "=================================================================\n",
      " conv2d_29 (Conv2D)          (None, 64, 64, 64)        1664      \n",
      "                                                                 \n",
      " batch_normalization_24 (Bat  (None, 64, 64, 64)       256       \n",
      " chNormalization)                                                \n",
      "                                                                 \n",
      " max_pooling2d_27 (MaxPoolin  (None, 32, 32, 64)       0         \n",
      " g2D)                                                            \n",
      "                                                                 \n",
      " dropout_31 (Dropout)        (None, 32, 32, 64)        0         \n",
      "                                                                 \n",
      " conv2d_30 (Conv2D)          (None, 32, 32, 32)        18464     \n",
      "                                                                 \n",
      " batch_normalization_25 (Bat  (None, 32, 32, 32)       128       \n",
      " chNormalization)                                                \n",
      "                                                                 \n",
      " max_pooling2d_28 (MaxPoolin  (None, 16, 16, 32)       0         \n",
      " g2D)                                                            \n",
      "                                                                 \n",
      " dropout_32 (Dropout)        (None, 16, 16, 32)        0         \n",
      "                                                                 \n",
      " conv2d_31 (Conv2D)          (None, 14, 14, 16)        4624      \n",
      "                                                                 \n",
      " batch_normalization_26 (Bat  (None, 14, 14, 16)       64        \n",
      " chNormalization)                                                \n",
      "                                                                 \n",
      " max_pooling2d_29 (MaxPoolin  (None, 7, 7, 16)         0         \n",
      " g2D)                                                            \n",
      "                                                                 \n",
      " dropout_33 (Dropout)        (None, 7, 7, 16)          0         \n",
      "                                                                 \n",
      " flatten_9 (Flatten)         (None, 784)               0         \n",
      "                                                                 \n",
      " dense_18 (Dense)            (None, 32)                25120     \n",
      "                                                                 \n",
      " dropout_34 (Dropout)        (None, 32)                0         \n",
      "                                                                 \n",
      " dense_19 (Dense)            (None, 26)                858       \n",
      "                                                                 \n",
      "=================================================================\n",
      "Total params: 51,178\n",
      "Trainable params: 50,954\n",
      "Non-trainable params: 224\n",
      "_________________________________________________________________\n"
     ]
    }
   ],
   "source": [
    "optim = tf.keras.optimizers.Adam(learning_rate=0.01)\n",
    "modified_model.compile(optimizer = optim , loss = 'categorical_crossentropy' , metrics = ['accuracy'])\n",
    "modified_model.summary()"
   ]
  },
  {
   "cell_type": "markdown",
   "metadata": {
    "id": "a_wCrSkEn0vC"
   },
   "source": [
    "**Train modified model**"
   ]
  },
  {
   "cell_type": "code",
   "execution_count": 67,
   "metadata": {
    "id": "u41lSyFHn2iH"
   },
   "outputs": [
    {
     "name": "stdout",
     "output_type": "stream",
     "text": [
      "Epoch 1/20\n",
      "40/40 [==============================] - 101s 2s/step - loss: 2.2652 - accuracy: 0.2910 - val_loss: 26.9083 - val_accuracy: 0.0385\n",
      "Epoch 2/20\n",
      "40/40 [==============================] - 99s 2s/step - loss: 1.1354 - accuracy: 0.5973 - val_loss: 10.9102 - val_accuracy: 0.0648\n",
      "Epoch 3/20\n",
      "40/40 [==============================] - 97s 2s/step - loss: 0.7682 - accuracy: 0.7288 - val_loss: 7.1003 - val_accuracy: 0.0777\n",
      "Epoch 4/20\n",
      "40/40 [==============================] - 89s 2s/step - loss: 0.5537 - accuracy: 0.8065 - val_loss: 11.4408 - val_accuracy: 0.1078\n",
      "Epoch 5/20\n",
      "40/40 [==============================] - 90s 2s/step - loss: 0.4374 - accuracy: 0.8426 - val_loss: 13.3244 - val_accuracy: 0.1367\n",
      "Epoch 6/20\n",
      "40/40 [==============================] - 92s 2s/step - loss: 0.3367 - accuracy: 0.8808 - val_loss: 18.0154 - val_accuracy: 0.1625\n",
      "Epoch 7/20\n",
      "40/40 [==============================] - 117s 3s/step - loss: 0.2857 - accuracy: 0.9008 - val_loss: 13.4999 - val_accuracy: 0.1664\n",
      "Epoch 8/20\n",
      "40/40 [==============================] - 109s 3s/step - loss: 0.2420 - accuracy: 0.9146 - val_loss: 13.9622 - val_accuracy: 0.2268\n",
      "Epoch 9/20\n",
      "40/40 [==============================] - 124s 3s/step - loss: 0.2213 - accuracy: 0.9249 - val_loss: 2.6596 - val_accuracy: 0.4787\n",
      "Epoch 10/20\n",
      "40/40 [==============================] - 127s 3s/step - loss: 0.2095 - accuracy: 0.9254 - val_loss: 4.0594 - val_accuracy: 0.5285\n",
      "Epoch 11/20\n",
      "40/40 [==============================] - 141s 4s/step - loss: 0.1859 - accuracy: 0.9364 - val_loss: 1.5042 - val_accuracy: 0.6615\n",
      "Epoch 12/20\n",
      "40/40 [==============================] - 166s 4s/step - loss: 0.1648 - accuracy: 0.9434 - val_loss: 2.6743 - val_accuracy: 0.5965\n",
      "Epoch 13/20\n",
      "40/40 [==============================] - 134s 3s/step - loss: 0.1415 - accuracy: 0.9528 - val_loss: 3.0508 - val_accuracy: 0.6225\n",
      "Epoch 14/20\n",
      "40/40 [==============================] - 118s 3s/step - loss: 0.1260 - accuracy: 0.9576 - val_loss: 1.7080 - val_accuracy: 0.6729\n",
      "Epoch 15/20\n",
      "40/40 [==============================] - 107s 3s/step - loss: 0.1334 - accuracy: 0.9556 - val_loss: 1.0134 - val_accuracy: 0.7752\n",
      "Epoch 16/20\n",
      "40/40 [==============================] - 114s 3s/step - loss: 0.1141 - accuracy: 0.9603 - val_loss: 1.0257 - val_accuracy: 0.7869\n",
      "Epoch 17/20\n",
      "40/40 [==============================] - 120s 3s/step - loss: 0.1140 - accuracy: 0.9617 - val_loss: 0.5035 - val_accuracy: 0.8736\n",
      "Epoch 18/20\n",
      "40/40 [==============================] - 120s 3s/step - loss: 0.1132 - accuracy: 0.9623 - val_loss: 2.5926 - val_accuracy: 0.6336\n",
      "Epoch 19/20\n",
      "40/40 [==============================] - 108s 3s/step - loss: 0.0988 - accuracy: 0.9673 - val_loss: 6.5222 - val_accuracy: 0.4629\n",
      "Epoch 20/20\n",
      "40/40 [==============================] - 109s 3s/step - loss: 0.0880 - accuracy: 0.9700 - val_loss: 0.6746 - val_accuracy: 0.8406\n"
     ]
    }
   ],
   "source": [
    "modified_history = modified_model.fit(\n",
    "    train_generator,\n",
    "    steps_per_epoch = train_steps,\n",
    "    validation_data = validation_generator, \n",
    "    validation_steps = val_steps,\n",
    "    epochs = epochs\n",
    "  )"
   ]
  },
  {
   "cell_type": "markdown",
   "metadata": {
    "id": "s41A6v_zoF29"
   },
   "source": [
    "**Evaluate modified model**"
   ]
  },
  {
   "cell_type": "code",
   "execution_count": 68,
   "metadata": {
    "id": "EAy-Om4KoICf"
   },
   "outputs": [
    {
     "name": "stdout",
     "output_type": "stream",
     "text": [
      "10/10 [==============================] - 10s 997ms/step - loss: 0.6703 - accuracy: 0.8406\n",
      "Loss:  0.6702698469161987\n",
      "Accuracy:  0.840624988079071\n"
     ]
    }
   ],
   "source": [
    "new_score =  modified_model.evaluate(validation_generator, steps=val_steps)\n",
    "print('Loss: ', new_score[0])\n",
    "print('Accuracy: ', new_score[1])"
   ]
  },
  {
   "cell_type": "code",
   "execution_count": 69,
   "metadata": {
    "id": "ycpM0tamVopR"
   },
   "outputs": [
    {
     "data": {
      "image/png": "[encoded data removed]",
      "text/plain": [
       "<Figure size 1152x648 with 2 Axes>"
      ]
     },
     "metadata": {
      "needs_background": "light"
     },
     "output_type": "display_data"
    }
   ],
   "source": [
    "fig , ax = plt.subplots(1,2)\n",
    "train_acc = modified_history.history['accuracy']\n",
    "train_loss = modified_history.history['loss']\n",
    "val_acc = modified_history.history['val_accuracy']\n",
    "val_loss = modified_history.history['val_loss']\n",
    "fig.set_size_inches(16,9)\n",
    "\n",
    "ax[0].plot(list_epochs , train_acc , 'go-' , label = 'Training Accuracy')\n",
    "ax[0].plot(list_epochs , val_acc , 'ro-' , label = 'Validation Accuracy')\n",
    "ax[0].set_title('Training & Validation Accuracy')\n",
    "ax[0].legend()\n",
    "ax[0].set_xlabel(\"Epochs\")\n",
    "ax[0].set_ylabel(\"Accuracy\")\n",
    "\n",
    "ax[1].plot(list_epochs , train_loss , 'g-o' , label = 'Training Loss')\n",
    "ax[1].plot(list_epochs , val_loss , 'r-o' , label = 'Validation Loss')\n",
    "ax[1].set_title('Validation Accuracy & Loss')\n",
    "ax[1].legend()\n",
    "ax[1].set_xlabel(\"Epochs\")\n",
    "ax[1].set_ylabel(\"Loss\")\n",
    "plt.show()"
   ]
  },
  {
   "cell_type": "markdown",
   "metadata": {
    "id": "MdoGbttYmoLk"
   },
   "source": [
    "**Evaluate hasil testing**"
   ]
  },
  {
   "cell_type": "code",
   "execution_count": 70,
   "metadata": {
    "id": "7iFJccCjmnzX"
   },
   "outputs": [
    {
     "name": "stdout",
     "output_type": "stream",
     "text": [
      "28/28 [==============================] - 2s 11ms/step\n"
     ]
    }
   ],
   "source": [
    "test_generator.reset()\n",
    "\n",
    "pred=modified_model.predict(\n",
    "    test_generator,\n",
    "    steps=test_steps,\n",
    "    verbose=1\n",
    "  )"
   ]
  },
  {
   "cell_type": "code",
   "execution_count": 71,
   "metadata": {
    "id": "i64XVdUUXW4n"
   },
   "outputs": [
    {
     "name": "stdout",
     "output_type": "stream",
     "text": [
      "['L', 'B', 'C', 'D', 'E', 'F', 'G', 'H', 'I', 'J', 'K', 'L', 'M', 'M', 'O', 'P', 'Q', 'R', 'S', 'T', 'U', 'V', 'W', 'Z', 'Y', 'Z', 'A', 'Z']\n",
      "['A', 'B', 'C', 'D', 'E', 'F', 'G', 'H', 'I', 'J', 'K', 'L', 'M', 'nothing', 'N', 'O', 'P', 'Q', 'R', 'space', 'S', 'T', 'U', 'V', 'W', 'X', 'Y', 'Z']\n"
     ]
    }
   ],
   "source": [
    "predicted_class_indices = np.argmax(pred,axis=1)\n",
    "labels = (train_generator.class_indices)\n",
    "labels = dict((v,k) for k,v in labels.items())\n",
    "predictions = [labels[k] for k in predicted_class_indices]\n",
    "print(predictions)\n",
    "\n",
    "ground_truth = true_classes\n",
    "print(ground_truth)"
   ]
  },
  {
   "cell_type": "code",
   "execution_count": null,
   "metadata": {},
   "outputs": [],
   "source": []
  }
 ],
 "metadata": {
  "colab": {
   "provenance": []
  },
  "kernelspec": {
   "display_name": "Python 3 (ipykernel)",
   "language": "python",
   "name": "python3"
  },
  "language_info": {
   "codemirror_mode": {
    "name": "ipython",
    "version": 3
   },
   "file_extension": ".py",
   "mimetype": "text/x-python",
   "name": "python",
   "nbconvert_exporter": "python",
   "pygments_lexer": "ipython3",
   "version": "3.10.8"
  }
 },
 "nbformat": 4,
 "nbformat_minor": 1
}
