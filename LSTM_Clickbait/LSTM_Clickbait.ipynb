{
 "cells": [
  {
   "cell_type": "markdown",
   "id": "8a7e004c",
   "metadata": {},
   "source": [
    "Deep Learning - Final Exam\n",
    "\n",
    "NIM : 2440016804\n",
    "\n",
    "Nama : Rio Pramana\n",
    "\n",
    "Kelas : LA01"
   ]
  },
  {
   "cell_type": "markdown",
   "id": "a9c6414e",
   "metadata": {},
   "source": [
    "# Nomor 2a, 2b, 2c, dan 2d"
   ]
  },
  {
   "cell_type": "markdown",
   "id": "d44a2f8f",
   "metadata": {},
   "source": [
    "# 2a. Preprocess & prepare dataset"
   ]
  },
  {
   "cell_type": "code",
   "execution_count": 1,
   "id": "4f3e61a6",
   "metadata": {},
   "outputs": [],
   "source": [
    "import pandas as pd\n",
    "import numpy as np\n",
    "import matplotlib.pyplot as plt\n",
    "from matplotlib import style\n",
    "import seaborn as sns"
   ]
  },
  {
   "cell_type": "markdown",
   "id": "10d15cad",
   "metadata": {},
   "source": [
    "## Reading and looking at the dataset"
   ]
  },
  {
   "cell_type": "code",
   "execution_count": 2,
   "id": "8b09692c",
   "metadata": {},
   "outputs": [],
   "source": [
    "# Importing the dataset, downloaded file is in the same folder\n",
    "csv_path = \"./clickbait.csv\"\n",
    "clickbait_df = pd.read_csv(csv_path)"
   ]
  },
  {
   "cell_type": "code",
   "execution_count": 3,
   "id": "ca2a4071",
   "metadata": {},
   "outputs": [
    {
     "data": {
      "text/html": [
       "<div>\n",
       "<style scoped>\n",
       "    .dataframe tbody tr th:only-of-type {\n",
       "        vertical-align: middle;\n",
       "    }\n",
       "\n",
       "    .dataframe tbody tr th {\n",
       "        vertical-align: top;\n",
       "    }\n",
       "\n",
       "    .dataframe thead th {\n",
       "        text-align: right;\n",
       "    }\n",
       "</style>\n",
       "<table border=\"1\" class=\"dataframe\">\n",
       "  <thead>\n",
       "    <tr style=\"text-align: right;\">\n",
       "      <th></th>\n",
       "      <th>headline</th>\n",
       "      <th>clickbait</th>\n",
       "    </tr>\n",
       "  </thead>\n",
       "  <tbody>\n",
       "    <tr>\n",
       "      <th>0</th>\n",
       "      <td>Should I Get Bings</td>\n",
       "      <td>1</td>\n",
       "    </tr>\n",
       "    <tr>\n",
       "      <th>1</th>\n",
       "      <td>Which TV Female Friend Group Do You Belong In</td>\n",
       "      <td>1</td>\n",
       "    </tr>\n",
       "    <tr>\n",
       "      <th>2</th>\n",
       "      <td>The New \"Star Wars: The Force Awakens\" Trailer...</td>\n",
       "      <td>1</td>\n",
       "    </tr>\n",
       "    <tr>\n",
       "      <th>3</th>\n",
       "      <td>This Vine Of New York On \"Celebrity Big Brothe...</td>\n",
       "      <td>1</td>\n",
       "    </tr>\n",
       "    <tr>\n",
       "      <th>4</th>\n",
       "      <td>A Couple Did A Stunning Photo Shoot With Their...</td>\n",
       "      <td>1</td>\n",
       "    </tr>\n",
       "  </tbody>\n",
       "</table>\n",
       "</div>"
      ],
      "text/plain": [
       "                                            headline  clickbait\n",
       "0                                 Should I Get Bings          1\n",
       "1      Which TV Female Friend Group Do You Belong In          1\n",
       "2  The New \"Star Wars: The Force Awakens\" Trailer...          1\n",
       "3  This Vine Of New York On \"Celebrity Big Brothe...          1\n",
       "4  A Couple Did A Stunning Photo Shoot With Their...          1"
      ]
     },
     "execution_count": 3,
     "metadata": {},
     "output_type": "execute_result"
    }
   ],
   "source": [
    "clickbait_df.head(5)"
   ]
  },
  {
   "cell_type": "code",
   "execution_count": 4,
   "id": "01743d6e",
   "metadata": {},
   "outputs": [
    {
     "name": "stdout",
     "output_type": "stream",
     "text": [
      "<class 'pandas.core.frame.DataFrame'>\n",
      "RangeIndex: 32000 entries, 0 to 31999\n",
      "Data columns (total 2 columns):\n",
      " #   Column     Non-Null Count  Dtype \n",
      "---  ------     --------------  ----- \n",
      " 0   headline   32000 non-null  object\n",
      " 1   clickbait  32000 non-null  int64 \n",
      "dtypes: int64(1), object(1)\n",
      "memory usage: 500.1+ KB\n"
     ]
    }
   ],
   "source": [
    "clickbait_df.info()"
   ]
  },
  {
   "cell_type": "code",
   "execution_count": 5,
   "id": "7c4d0f8e",
   "metadata": {},
   "outputs": [
    {
     "data": {
      "text/plain": [
       "headline     0\n",
       "clickbait    0\n",
       "dtype: int64"
      ]
     },
     "execution_count": 5,
     "metadata": {},
     "output_type": "execute_result"
    }
   ],
   "source": [
    "clickbait_df.isnull().sum()"
   ]
  },
  {
   "cell_type": "code",
   "execution_count": 6,
   "id": "4db79c66",
   "metadata": {},
   "outputs": [],
   "source": [
    "#Set style ggplot\n",
    "style.use('ggplot')"
   ]
  },
  {
   "cell_type": "code",
   "execution_count": 7,
   "id": "04e1a82b",
   "metadata": {},
   "outputs": [
    {
     "data": {
      "image/png": "[encoded data removed]",
      "text/plain": [
       "<Figure size 700x700 with 1 Axes>"
      ]
     },
     "metadata": {},
     "output_type": "display_data"
    }
   ],
   "source": [
    "plt.figure(figsize=(7,7))\n",
    "sns.countplot(x='clickbait', data=clickbait_df)\n",
    "plt.title('Clickbait Class Distribution')\n",
    "plt.show()"
   ]
  },
  {
   "cell_type": "code",
   "execution_count": 8,
   "id": "de8196ac",
   "metadata": {},
   "outputs": [
    {
     "name": "stdout",
     "output_type": "stream",
     "text": [
      "Number of duplicate data/headline: 0\n"
     ]
    }
   ],
   "source": [
    "# Cek apakah ada row yang headlinenya duplicate\n",
    "print(\"Number of duplicate data/headline: {}\".format(clickbait_df.duplicated(subset=[\"headline\"]).sum()))"
   ]
  },
  {
   "cell_type": "markdown",
   "id": "dabf5923",
   "metadata": {},
   "source": [
    "Setelah dilakukan beberapa pengecekan seperti diatas, terlihat bahwa dataset ini memiliki 32000 data dengan 50% class 1 dan 50% class 0. Tidak ada data yang kosong/duplikat"
   ]
  },
  {
   "cell_type": "markdown",
   "id": "f63a213d",
   "metadata": {},
   "source": [
    "## Preprocess dataset"
   ]
  },
  {
   "cell_type": "markdown",
   "id": "35ff56b0",
   "metadata": {},
   "source": [
    "Terdapat beberapa hal yang saya lakukan terhadap dataset ini:\n",
    "1. Merubah semua huruf menjadi lowercase\n",
    "2. Menghapus tanda baca\n",
    "3. Menghapus text yang berupa angka\n",
    "4. Menghapus character \\r dan \\n\n",
    "5. Menghapus stopwords dalam bahasa Inggris\n",
    "6. Melakukan lemmatization\n",
    "7. Melakukan tokenization\n",
    "8. Melakukan padding untuk menyesuaikan input dengan model\n",
    "9. Menghapus spasi yang berlebihan"
   ]
  },
  {
   "cell_type": "markdown",
   "id": "31d651da",
   "metadata": {},
   "source": [
    "1. Seluruh string yang ada pada kolom headline perlu diubah menjadi lowercase agar dimensionalitas pada data berkurang dan semua kata yang sama akan dianggap sama walaupun penggunaan huruf kapitalnya berbeda (misalnya kata 'learning', 'Learning', dan 'LeaRnIng' akan dianggap sebagai kata yang sama)\n",
    "\n",
    "2. Menghapus tanda baca pada text juga merupakan step yang penting karena tanda-tanda baca tidak memiliki makna semantik yang signifikan untuk menentukan apakah sebuah headline merupakan clickbait atau tidak. Tidak hanya tanda baca ini tidak membawa hal positif, tanda baca ini justru bisa berdampak negatif karena akan memengaruhi bagaimana model belajar mengklasifikasi headline mana yang merupakan clickbait berdasarkan kata yang digunakan\n",
    "\n",
    "3. Menghapus angka juga merupakan step yang penting seperti step nomor 2. Angka pada headline tidak mengandung makna yang signifikan\n",
    "\n",
    "4. Menghapus \\r dan \\n juga membantu data text menjadi lebih bersih (menghilangkan characters yang tidak terlalu bermakna)\n",
    "\n",
    "5. Menghapus stopwords juga menjadi step yang penting karena biasanya dalam bahasa Inggris terdapat beberapa kata yang hampir selalu digunakan dalam setiap kalimat (seperti \"the\" dan \"and\") sehingga kata-kata tersebut tidak membawa makna apa-apa dalam menentukan clickbait\n",
    "\n",
    "6. Lemmatization membantu mengurangi dimensionalitas data dan membantu model dalam memahami konteks dari sebuah kata dengan lebih baik. Lemmatization berfungsi dengan cara merubah sebuah kata ke base formnya (misalnya 'studied' menjadi 'study') tanpa menghilangkan makna dari katanya (berbeda dengan stemming yang akan merubah kata 'studied' menjadi 'studi' yang bukan merupakan kata dalam bahasa Inggris)\n",
    "\n",
    "7. Tokenization berguna untuk model yang akan di-train dengan cara merubah setiap kata pada text menjadi integer-integer yang unik sehingga sebuah text bisa direpresentasikan sebagai sequence yang akan digunakan sebagai input model\n",
    "\n",
    "8. Padding dilakukan agar setiap text memiliki shape yang sama karena model akan mengharapkan input dengan shape tertentu (tidak bervariasi). Padding dilakukan dengan menambahkan 0 pada sequence text sampai semua sequence memiliki length yang sama\n",
    "\n",
    "9. Penghapusan space di akhir preprocessing sangat berguna untuk menghapus karakter spasi yang berlebihan, terutama akibat step preprocessing yang dilakukan sebelumnya"
   ]
  },
  {
   "cell_type": "code",
   "execution_count": 9,
   "id": "31e21674",
   "metadata": {},
   "outputs": [],
   "source": [
    "def remove_unnecessary_spaces(string):\n",
    "    string = string.strip() # remove spaces di depan dan belakang string\n",
    "    string = \" \".join(string.split()) # remove unnecessary spaces antar kata di string\n",
    "    return string"
   ]
  },
  {
   "cell_type": "code",
   "execution_count": 10,
   "id": "3b92b20e",
   "metadata": {},
   "outputs": [],
   "source": [
    "import string as st\n",
    "import re\n",
    "from nltk.corpus import stopwords\n",
    "from nltk.tokenize import word_tokenize\n",
    "from nltk.stem import WordNetLemmatizer\n",
    "from tensorflow.keras.preprocessing.text import Tokenizer\n",
    "from tensorflow.keras.preprocessing.sequence import pad_sequences\n",
    "\n",
    "def clean_text_before_tokenize(original_df, column):\n",
    "    # copy the dataframe so we do not change the original dataframe\n",
    "    df = original_df.copy()\n",
    "    # turn all text to lowercase\n",
    "    df[column] = df[column].str.lower() # convert to lowercase\n",
    "    # remove punctuations\n",
    "    df[column] = df[column].apply(lambda x: re.sub('[%s]' % re.escape(st.punctuation), '', x))\n",
    "    # remove numbers\n",
    "    df[column] = df[column].str.replace('\\d+','') # remove numbers\n",
    "    # remove \\r & \\n\n",
    "    df[column] = df[column].str.replace('\\r', '')\n",
    "    df[column] = df[column].str.replace('\\n', '')\n",
    "    # remove stopwords\n",
    "    stop_words = set(stopwords.words('english'))\n",
    "    df[column] = df[column].apply(lambda x: ' '.join([word for word in word_tokenize(x) if word.lower() not in stop_words]))\n",
    "    # remove all unnecessary/extra spaces\n",
    "    df[column] = df[column].apply(remove_unnecessary_spaces)\n",
    "    \n",
    "    return df\n",
    "\n",
    "def lemmatize_text(text):\n",
    "    tokens = word_tokenize(text)\n",
    "    lemmatizer = WordNetLemmatizer()\n",
    "    \n",
    "    return [lemmatizer.lemmatize(token) for token in tokens]\n",
    "\n",
    "def apply_lemmatization(data):\n",
    "    data = [lemmatize_text(text) for text in data.tolist()]\n",
    "    \n",
    "    return data\n",
    "\n",
    "def tokenize_data_for_LSTM(X_train, X_val, X_test, vocab_size, maxlen):\n",
    "    X_train = apply_lemmatization(X_train)\n",
    "    X_val = apply_lemmatization(X_val)\n",
    "    X_test = apply_lemmatization(X_test)\n",
    "    texts = X_train + X_val + X_test\n",
    "    tokenizer = Tokenizer(num_words = vocab_size)\n",
    "    tokenizer.fit_on_texts(texts)\n",
    "    X_train = tokenizer.texts_to_sequences(X_train)\n",
    "    X_val = tokenizer.texts_to_sequences(X_val)\n",
    "    X_test = tokenizer.texts_to_sequences(X_test)\n",
    "    # Pad the sequences to make all of them the same length\n",
    "    X_train = pad_sequences(X_train, maxlen = maxlen)\n",
    "    X_val = pad_sequences(X_val, maxlen = maxlen)\n",
    "    X_test = pad_sequences(X_test, maxlen = maxlen)\n",
    "    \n",
    "    return X_train, X_val, X_test"
   ]
  },
  {
   "cell_type": "markdown",
   "id": "282ba9f3",
   "metadata": {},
   "source": [
    "Functions dibawah ini adalah helper functions yang membantu untuk menentukan nilai vocab_size dan maxlen. Vocab_size baiknya memiliki value sebanyak jumlah kata yang unik pada dataset, sedangkan maxlen baiknya memilki value sebanyak panjang text terpanjang pada dataset"
   ]
  },
  {
   "cell_type": "code",
   "execution_count": 11,
   "id": "67e83ed3",
   "metadata": {},
   "outputs": [],
   "source": [
    "def get_num_unique_words(df, column):\n",
    "    all_words = []\n",
    "    for words in df[column].values:\n",
    "        all_words.extend(words)\n",
    "    unique_words = set(all_words)\n",
    "    \n",
    "    return len(unique_words)\n",
    "\n",
    "def get_len_longest_string(df, column):\n",
    "    return len(max(df[column], key=len))"
   ]
  },
  {
   "cell_type": "code",
   "execution_count": 12,
   "id": "1139310d",
   "metadata": {},
   "outputs": [],
   "source": [
    "def preprocess_dataset_LSTM(original_df, column):\n",
    "    df = original_df.copy()\n",
    "    df = clean_text_before_tokenize(df, column)\n",
    "\n",
    "    return df"
   ]
  },
  {
   "cell_type": "markdown",
   "id": "fc86a35e",
   "metadata": {},
   "source": [
    "Preprocess dataframe (sebelum tokenization)"
   ]
  },
  {
   "cell_type": "code",
   "execution_count": 13,
   "id": "1cc7a11f",
   "metadata": {},
   "outputs": [
    {
     "name": "stderr",
     "output_type": "stream",
     "text": [
      "C:\\Users\\User\\AppData\\Local\\Temp\\ipykernel_6104\\2926137536.py:17: FutureWarning: The default value of regex will change from True to False in a future version.\n",
      "  df[column] = df[column].str.replace('\\d+','') # remove numbers\n"
     ]
    },
    {
     "data": {
      "text/html": [
       "<div>\n",
       "<style scoped>\n",
       "    .dataframe tbody tr th:only-of-type {\n",
       "        vertical-align: middle;\n",
       "    }\n",
       "\n",
       "    .dataframe tbody tr th {\n",
       "        vertical-align: top;\n",
       "    }\n",
       "\n",
       "    .dataframe thead th {\n",
       "        text-align: right;\n",
       "    }\n",
       "</style>\n",
       "<table border=\"1\" class=\"dataframe\">\n",
       "  <thead>\n",
       "    <tr style=\"text-align: right;\">\n",
       "      <th></th>\n",
       "      <th>headline</th>\n",
       "      <th>clickbait</th>\n",
       "    </tr>\n",
       "  </thead>\n",
       "  <tbody>\n",
       "    <tr>\n",
       "      <th>0</th>\n",
       "      <td>get bings</td>\n",
       "      <td>1</td>\n",
       "    </tr>\n",
       "    <tr>\n",
       "      <th>1</th>\n",
       "      <td>tv female friend group belong</td>\n",
       "      <td>1</td>\n",
       "    </tr>\n",
       "    <tr>\n",
       "      <th>2</th>\n",
       "      <td>new star wars force awakens trailer give chills</td>\n",
       "      <td>1</td>\n",
       "    </tr>\n",
       "    <tr>\n",
       "      <th>3</th>\n",
       "      <td>vine new york celebrity big brother fucking pe...</td>\n",
       "      <td>1</td>\n",
       "    </tr>\n",
       "    <tr>\n",
       "      <th>4</th>\n",
       "      <td>couple stunning photo shoot baby learning inop...</td>\n",
       "      <td>1</td>\n",
       "    </tr>\n",
       "  </tbody>\n",
       "</table>\n",
       "</div>"
      ],
      "text/plain": [
       "                                            headline  clickbait\n",
       "0                                          get bings          1\n",
       "1                      tv female friend group belong          1\n",
       "2    new star wars force awakens trailer give chills          1\n",
       "3  vine new york celebrity big brother fucking pe...          1\n",
       "4  couple stunning photo shoot baby learning inop...          1"
      ]
     },
     "execution_count": 13,
     "metadata": {},
     "output_type": "execute_result"
    }
   ],
   "source": [
    "cleaned_clickbait_df = preprocess_dataset_LSTM(clickbait_df, 'headline')\n",
    "cleaned_clickbait_df.head(5)"
   ]
  },
  {
   "cell_type": "markdown",
   "id": "18cc768e",
   "metadata": {},
   "source": [
    "## Split dataset"
   ]
  },
  {
   "cell_type": "markdown",
   "id": "2af36738",
   "metadata": {},
   "source": [
    "Dataset saya split menjadi 80/10/10"
   ]
  },
  {
   "cell_type": "code",
   "execution_count": 14,
   "id": "bc9e5675",
   "metadata": {},
   "outputs": [
    {
     "name": "stdout",
     "output_type": "stream",
     "text": [
      "(25600,) (3200,) (3200,) (25600,) (3200,) (3200,)\n"
     ]
    }
   ],
   "source": [
    "from sklearn.model_selection import train_test_split\n",
    "\n",
    "X = cleaned_clickbait_df['headline'].values\n",
    "y = cleaned_clickbait_df['clickbait'].values\n",
    "X_train, X_test, y_train, y_test = train_test_split(X, y, test_size = 0.2, random_state = 42)\n",
    "X_test, X_val, y_test, y_val = train_test_split(X_test, y_test, test_size = 0.5, random_state = 42)\n",
    "\n",
    "print(X_train.shape, X_val.shape, X_test.shape, y_train.shape, y_val.shape, y_test.shape)"
   ]
  },
  {
   "cell_type": "markdown",
   "id": "e076183a",
   "metadata": {},
   "source": [
    "Function dibawah ini menyelesaikan preparation dataset untuk model yang akan saya train dengan melakukan lemmatization dan tokenization serta padding"
   ]
  },
  {
   "cell_type": "code",
   "execution_count": 15,
   "id": "ac172628",
   "metadata": {},
   "outputs": [],
   "source": [
    "def prepare_inputs_LSTM(df, column, X_train, X_val, X_test):\n",
    "    vocab_size = get_num_unique_words(df, column) + 5\n",
    "    maxlen = get_len_longest_string(df, column) + 5\n",
    "    print(\"Vocab size is {} and max length is {}\".format(vocab_size, maxlen))\n",
    "    X_train, X_val, X_test = tokenize_data_for_LSTM(X_train, X_val, X_test, vocab_size, maxlen)\n",
    "    \n",
    "    return X_train, X_val, X_test, vocab_size, maxlen"
   ]
  },
  {
   "cell_type": "code",
   "execution_count": 16,
   "id": "09981e6f",
   "metadata": {},
   "outputs": [
    {
     "name": "stdout",
     "output_type": "stream",
     "text": [
      "Vocab size is 71 and max length is 127\n"
     ]
    }
   ],
   "source": [
    "X_train, X_val, X_test, vocab_size, maxlen = prepare_inputs_LSTM(cleaned_clickbait_df, 'headline', X_train, X_val, X_test)"
   ]
  },
  {
   "cell_type": "markdown",
   "id": "6ddfb725",
   "metadata": {},
   "source": [
    "# 2b. Membuat model LSTM"
   ]
  },
  {
   "cell_type": "markdown",
   "id": "3c1d9e77",
   "metadata": {},
   "source": [
    "Untuk membuat model yang dapat melakukan clickbait/text classification, saya memilih untuk menggunakan LSTM (Long-Short Term Memory)\n",
    "\n",
    "LSTM merupakan salah satu jenis RNN yang dapat meng-handle **sequences** of data, salah satu data yang bisa di-handle adalah text. LSTM mampu mendapatkan konteks dan ketergantungan antar kata pada sebuah kalimat. LSTM memiliki memory cells yang dapat menyimpan informasi untuk waktu yang sangat lama sehingga dapat digunakan untuk mendapatkan pola sequential yang ada pada teks dan menghasilkan prediksi yang lebih baik berdasarkan pola tersebut, tidak seperti jenis NN lainnya.\n",
    "\n",
    "Karakteristik dan kelebihan LSTM diatas sangat cocok dengan text classification berupa clickbait seperti pada kasus ini. Untuk mengetahui apakah sebuah headline itu clickbait atau bukan, kita biasanya harus melihat konteks kalimatnya secara keseluruhan. Hal tersebut juga biasanya berarti kita harus mempertimbangkan penggunaan kata dan urutan penggunaan kata tersebut. Contohnya, headline 'President of X ate chickens' mungkin terdengar normal dan bukan clickbait, tetapi headline 'Chickens ate President of X' akan terdengar seperti sebuah headline yang tidak mungkin terjadi dan bisa dikategorikan sebagai clickbait, padahal kata yang digunakan sama. LSTM mampu melihat konteks sebuah kalimat berdasarkan sequence kata yang digunakan sehingga LSTM dapat mengatasi problem tersebut dan menghasilkan klasifikasi yang baik\n",
    "\n",
    "Selain itu, LSTM juga memiliki gates yang mmampu mengendalikan flow dari informasi yang ada pada networknya sehingga LSTM dapat mengatasi vanishing gradient problem dengan lebih baik jika dibandingkan dengan tipe RNN lainnya"
   ]
  },
  {
   "cell_type": "code",
   "execution_count": 17,
   "id": "92047737",
   "metadata": {},
   "outputs": [
    {
     "name": "stdout",
     "output_type": "stream",
     "text": [
      "Model: \"sequential\"\n",
      "_________________________________________________________________\n",
      " Layer (type)                Output Shape              Param #   \n",
      "=================================================================\n",
      " embedding (Embedding)       (None, 127, 32)           2272      \n",
      "                                                                 \n",
      " lstm (LSTM)                 (None, 127, 64)           24832     \n",
      "                                                                 \n",
      " lstm_1 (LSTM)               (None, 32)                12416     \n",
      "                                                                 \n",
      " dropout (Dropout)           (None, 32)                0         \n",
      "                                                                 \n",
      " dense (Dense)               (None, 1)                 33        \n",
      "                                                                 \n",
      "=================================================================\n",
      "Total params: 39,553\n",
      "Trainable params: 39,553\n",
      "Non-trainable params: 0\n",
      "_________________________________________________________________\n"
     ]
    }
   ],
   "source": [
    "from tensorflow.keras.models import Sequential\n",
    "from tensorflow.keras.layers import Embedding, LSTM, Dense, Dropout, GlobalMaxPooling1D\n",
    "from tensorflow.keras.callbacks import ModelCheckpoint, EarlyStopping\n",
    "\n",
    "embedding_size = 32\n",
    "\n",
    "model = Sequential()\n",
    "model.add(Embedding(vocab_size, embedding_size, input_length=maxlen))\n",
    "model.add(LSTM(64, return_sequences=True))\n",
    "model.add(LSTM(32, return_sequences=False))\n",
    "model.add(Dropout(0.3))\n",
    "model.add(Dense(1, activation='sigmoid'))\n",
    "model.summary()"
   ]
  },
  {
   "cell_type": "markdown",
   "id": "306aafc3",
   "metadata": {},
   "source": [
    "Model yang saya buat diatas memiliki sebuah embedding layer yang akan menerima input text (yang sudah diubah menjadi integer) dan akan mengubahnya menjadi embeddings yang akan membantu model mempelajari makna dari setiap kata dan hubungan antar kata pada setiap text\n",
    "\n",
    "Kemudian, terdapat 2 LSTM layer (layer kedua return_sequencesnya False) yang akan menghandle data-data dalam bentuk sequence. LSTM layer berfungsi untuk menyimpan informasi-informasi penting pada sequence input dan mengabaikan informasi yang dianggap tidak relevan melalui hidden state yang akan memberikan informasi dari langkah pertama ke langkah selanjutnya\n",
    "\n",
    "Dropout layer ditambahkan untuk menghindari overfitting"
   ]
  },
  {
   "cell_type": "markdown",
   "id": "dee27000",
   "metadata": {},
   "source": [
    "## Training model LSTM"
   ]
  },
  {
   "cell_type": "code",
   "execution_count": 18,
   "id": "886d7ee6",
   "metadata": {},
   "outputs": [],
   "source": [
    "callbacks = [\n",
    "    EarlyStopping(\n",
    "        monitor='val_loss',\n",
    "        min_delta=1e-4,\n",
    "        patience=5,\n",
    "        verbose=1\n",
    "    ),\n",
    "    ModelCheckpoint(\n",
    "        filepath='weights.h5',\n",
    "        monitor='val_loss', \n",
    "        mode='min', \n",
    "        save_best_only=True,\n",
    "        save_weights_only=True,\n",
    "        verbose=1\n",
    "    )\n",
    "]"
   ]
  },
  {
   "cell_type": "markdown",
   "id": "1d1718fd",
   "metadata": {},
   "source": [
    "Model akan di-train dengan max epochs = 40 (training akan di-stop ketika validation loss tidak kunjung membaik dengan patience = 5). Initial_epoch saya set menjadi 5 agar training tidak berhenti terlalu awal"
   ]
  },
  {
   "cell_type": "code",
   "execution_count": 19,
   "id": "d3056600",
   "metadata": {},
   "outputs": [
    {
     "name": "stdout",
     "output_type": "stream",
     "text": [
      "Epoch 6/40\n",
      "100/100 [==============================] - ETA: 0s - loss: 0.4770 - accuracy: 0.7561\n",
      "Epoch 6: val_loss improved from inf to 0.44510, saving model to weights.h5\n",
      "100/100 [==============================] - 35s 308ms/step - loss: 0.4770 - accuracy: 0.7561 - val_loss: 0.4451 - val_accuracy: 0.7769\n",
      "Epoch 7/40\n",
      "100/100 [==============================] - ETA: 0s - loss: 0.4400 - accuracy: 0.7850\n",
      "Epoch 7: val_loss improved from 0.44510 to 0.44047, saving model to weights.h5\n",
      "100/100 [==============================] - 39s 386ms/step - loss: 0.4400 - accuracy: 0.7850 - val_loss: 0.4405 - val_accuracy: 0.7741\n",
      "Epoch 8/40\n",
      "100/100 [==============================] - ETA: 0s - loss: 0.4427 - accuracy: 0.7832\n",
      "Epoch 8: val_loss did not improve from 0.44047\n",
      "100/100 [==============================] - 37s 368ms/step - loss: 0.4427 - accuracy: 0.7832 - val_loss: 0.4466 - val_accuracy: 0.7709\n",
      "Epoch 9/40\n",
      "100/100 [==============================] - ETA: 0s - loss: 0.4377 - accuracy: 0.7868\n",
      "Epoch 9: val_loss did not improve from 0.44047\n",
      "100/100 [==============================] - 36s 356ms/step - loss: 0.4377 - accuracy: 0.7868 - val_loss: 0.4473 - val_accuracy: 0.7772\n",
      "Epoch 10/40\n",
      "100/100 [==============================] - ETA: 0s - loss: 0.4345 - accuracy: 0.7869\n",
      "Epoch 10: val_loss did not improve from 0.44047\n",
      "100/100 [==============================] - 36s 361ms/step - loss: 0.4345 - accuracy: 0.7869 - val_loss: 0.4409 - val_accuracy: 0.7766\n",
      "Epoch 11/40\n",
      "100/100 [==============================] - ETA: 0s - loss: 0.4331 - accuracy: 0.7869\n",
      "Epoch 11: val_loss improved from 0.44047 to 0.44030, saving model to weights.h5\n",
      "100/100 [==============================] - 34s 340ms/step - loss: 0.4331 - accuracy: 0.7869 - val_loss: 0.4403 - val_accuracy: 0.7753\n",
      "Epoch 12/40\n",
      "100/100 [==============================] - ETA: 0s - loss: 0.4327 - accuracy: 0.7859\n",
      "Epoch 12: val_loss improved from 0.44030 to 0.44020, saving model to weights.h5\n",
      "100/100 [==============================] - 31s 315ms/step - loss: 0.4327 - accuracy: 0.7859 - val_loss: 0.4402 - val_accuracy: 0.7769\n",
      "Epoch 13/40\n",
      "100/100 [==============================] - ETA: 0s - loss: 0.4321 - accuracy: 0.7873\n",
      "Epoch 13: val_loss did not improve from 0.44020\n",
      "100/100 [==============================] - 31s 313ms/step - loss: 0.4321 - accuracy: 0.7873 - val_loss: 0.4405 - val_accuracy: 0.7766\n",
      "Epoch 14/40\n",
      "100/100 [==============================] - ETA: 0s - loss: 0.4312 - accuracy: 0.7867\n",
      "Epoch 14: val_loss did not improve from 0.44020\n",
      "100/100 [==============================] - 33s 327ms/step - loss: 0.4312 - accuracy: 0.7867 - val_loss: 0.4426 - val_accuracy: 0.7756\n",
      "Epoch 15/40\n",
      "100/100 [==============================] - ETA: 0s - loss: 0.4306 - accuracy: 0.7874\n",
      "Epoch 15: val_loss did not improve from 0.44020\n",
      "100/100 [==============================] - 32s 318ms/step - loss: 0.4306 - accuracy: 0.7874 - val_loss: 0.4444 - val_accuracy: 0.7788\n",
      "Epoch 16/40\n",
      "100/100 [==============================] - ETA: 0s - loss: 0.4296 - accuracy: 0.7867\n",
      "Epoch 16: val_loss did not improve from 0.44020\n",
      "100/100 [==============================] - 32s 315ms/step - loss: 0.4296 - accuracy: 0.7867 - val_loss: 0.4425 - val_accuracy: 0.7772\n",
      "Epoch 17/40\n",
      "100/100 [==============================] - ETA: 0s - loss: 0.4289 - accuracy: 0.7882\n",
      "Epoch 17: val_loss did not improve from 0.44020\n",
      "100/100 [==============================] - 32s 323ms/step - loss: 0.4289 - accuracy: 0.7882 - val_loss: 0.4438 - val_accuracy: 0.7775\n",
      "Epoch 17: early stopping\n"
     ]
    }
   ],
   "source": [
    "from tensorflow.keras.optimizers import Adam\n",
    "batch_size = 256\n",
    "epochs = 40\n",
    "\n",
    "model.compile(loss='binary_crossentropy', optimizer=Adam(learning_rate=0.01), metrics=['accuracy'])\n",
    "history = model.fit(X_train, y_train, batch_size=batch_size, validation_data=(X_val, y_val), epochs=epochs, callbacks=callbacks,\n",
    "                   initial_epoch = 5)"
   ]
  },
  {
   "cell_type": "markdown",
   "id": "657727ad",
   "metadata": {},
   "source": [
    "# 2c. Buat multi class classifier model menggunakan pre trained model"
   ]
  },
  {
   "cell_type": "markdown",
   "id": "f7a21c87",
   "metadata": {},
   "source": [
    "Untuk soal ini, saya memilih menggunakan pre-trained model DistilRoBERTa-base yang merupakan versi model RoBERTa yang lebih kecil sizenya dan lebih cepat untuk dijalankan. Model DistilRoBERTa-base walaupun merupakan versi yang lebih ringan, performanya sudah sangat baik karena model ini telah dilatih dengan banyak data text sehingga dapat menjadi starting point yang baik untuk membuat sebuah model dengan performa yang sangat baik tanpa harus melakukan training dengan data yang sangat banyak\n",
    "\n",
    "Model ini juga pernah digunakan oleh creator lainnya di HuggingFace untuk clickbait classification sehingga model ini sudah terbukti bisa menjadi fondasi yang baik untuk task pada soal ini"
   ]
  },
  {
   "cell_type": "markdown",
   "id": "c05cf691",
   "metadata": {},
   "source": [
    "## Import pretrained model dari transformers (huggingface)"
   ]
  },
  {
   "cell_type": "code",
   "execution_count": 21,
   "id": "bfd3f4aa",
   "metadata": {},
   "outputs": [
    {
     "name": "stderr",
     "output_type": "stream",
     "text": [
      "Some layers from the model checkpoint at distilroberta-base were not used when initializing TFRobertaModel: ['lm_head']\n",
      "- This IS expected if you are initializing TFRobertaModel from the checkpoint of a model trained on another task or with another architecture (e.g. initializing a BertForSequenceClassification model from a BertForPreTraining model).\n",
      "- This IS NOT expected if you are initializing TFRobertaModel from the checkpoint of a model that you expect to be exactly identical (initializing a BertForSequenceClassification model from a BertForSequenceClassification model).\n",
      "All the layers of TFRobertaModel were initialized from the model checkpoint at distilroberta-base.\n",
      "If your task is similar to the task the model of the checkpoint was trained on, you can already use TFRobertaModel for predictions without further training.\n"
     ]
    }
   ],
   "source": [
    "from transformers import RobertaTokenizer, TFRobertaModel\n",
    "tokenizer = RobertaTokenizer.from_pretrained('distilroberta-base')\n",
    "pretrained_model = TFRobertaModel.from_pretrained('distilroberta-base')"
   ]
  },
  {
   "cell_type": "markdown",
   "id": "bfdca4c9",
   "metadata": {},
   "source": [
    "Berikut adalah sedikit informasi mengenai arsitektur dari pretrained modelnya"
   ]
  },
  {
   "cell_type": "code",
   "execution_count": 22,
   "id": "ddf3fae3",
   "metadata": {},
   "outputs": [
    {
     "name": "stdout",
     "output_type": "stream",
     "text": [
      "RobertaConfig {\n",
      "  \"_name_or_path\": \"distilroberta-base\",\n",
      "  \"architectures\": [\n",
      "    \"RobertaForMaskedLM\"\n",
      "  ],\n",
      "  \"attention_probs_dropout_prob\": 0.1,\n",
      "  \"bos_token_id\": 0,\n",
      "  \"classifier_dropout\": null,\n",
      "  \"eos_token_id\": 2,\n",
      "  \"hidden_act\": \"gelu\",\n",
      "  \"hidden_dropout_prob\": 0.1,\n",
      "  \"hidden_size\": 768,\n",
      "  \"initializer_range\": 0.02,\n",
      "  \"intermediate_size\": 3072,\n",
      "  \"layer_norm_eps\": 1e-05,\n",
      "  \"max_position_embeddings\": 514,\n",
      "  \"model_type\": \"roberta\",\n",
      "  \"num_attention_heads\": 12,\n",
      "  \"num_hidden_layers\": 6,\n",
      "  \"pad_token_id\": 1,\n",
      "  \"position_embedding_type\": \"absolute\",\n",
      "  \"transformers_version\": \"4.26.0\",\n",
      "  \"type_vocab_size\": 1,\n",
      "  \"use_cache\": true,\n",
      "  \"vocab_size\": 50265\n",
      "}\n",
      "\n"
     ]
    }
   ],
   "source": [
    "print(pretrained_model.config)"
   ]
  },
  {
   "cell_type": "code",
   "execution_count": 23,
   "id": "24bb82a5",
   "metadata": {},
   "outputs": [],
   "source": [
    "# # Freeze the weights of the pre-trained model\n",
    "# for layer in pretrained_model.layers[:-1]:\n",
    "#     layer.trainable = False"
   ]
  },
  {
   "cell_type": "code",
   "execution_count": 24,
   "id": "6c9fe741",
   "metadata": {},
   "outputs": [],
   "source": [
    "# import tensorflow as tf\n",
    "\n",
    "# # Convert padded sequences to tensors\n",
    "# train_dataset = tf.data.Dataset.from_tensor_slices((X_train, y_train))\n",
    "# val_dataset = tf.data.Dataset.from_tensor_slices((X_val, y_val))\n",
    "# test_dataset = tf.data.Dataset.from_tensor_slices((X_test, y_test))\n",
    "\n",
    "# # Batch the sequences\n",
    "# BATCH_SIZE = 256\n",
    "# train_dataset = train_dataset.batch(BATCH_SIZE)\n",
    "# val_dataset = val_dataset.batch(BATCH_SIZE)\n",
    "# test_dataset = test_dataset.batch(BATCH_SIZE)\n",
    "\n",
    "# # Use only the first 10 data from each dataset\n",
    "# train_dataset = train_dataset.take(10)\n",
    "# val_dataset = val_dataset.take(10)\n",
    "# test_dataset = test_dataset.take(10)"
   ]
  },
  {
   "cell_type": "code",
   "execution_count": 25,
   "id": "67455d9c",
   "metadata": {},
   "outputs": [
    {
     "name": "stdout",
     "output_type": "stream",
     "text": [
      "Model: \"tf_roberta_model\"\n",
      "_________________________________________________________________\n",
      " Layer (type)                Output Shape              Param #   \n",
      "=================================================================\n",
      " roberta (TFRobertaMainLayer  multiple                 82118400  \n",
      " )                                                               \n",
      "                                                                 \n",
      "=================================================================\n",
      "Total params: 82,118,400\n",
      "Trainable params: 82,118,400\n",
      "Non-trainable params: 0\n",
      "_________________________________________________________________\n"
     ]
    }
   ],
   "source": [
    "from tensorflow.keras.optimizers import Adam\n",
    "pretrained_model.compile(loss='binary_crossentropy', optimizer=Adam(learning_rate=0.01), metrics=['accuracy'])\n",
    "pretrained_model.summary()"
   ]
  },
  {
   "cell_type": "code",
   "execution_count": 26,
   "id": "31d48eec",
   "metadata": {},
   "outputs": [],
   "source": [
    "# pretrained_model.fit(train_dataset, epochs=3, batch_size=256, validation_data=val_dataset)"
   ]
  },
  {
   "cell_type": "code",
   "execution_count": 27,
   "id": "e09782f3",
   "metadata": {},
   "outputs": [],
   "source": [
    "lemmatizer = WordNetLemmatizer()\n",
    "\n",
    "def lemmatize_pretrain(text):\n",
    "    return ' '.join([lemmatizer.lemmatize(word) for word in text.split()])\n",
    "\n",
    "cleaned_clickbait_df['headline'] = cleaned_clickbait_df['headline'].apply(lemmatize_pretrain)"
   ]
  },
  {
   "cell_type": "markdown",
   "id": "fa536b75",
   "metadata": {},
   "source": [
    "Maaf, untuk transfer learning yang saya rencanakan belum berhasil dilakukan karena ketika codenya dijalankan, selalu terhambat dengan masalah Out of Memory sehingga kernel yang saya gunakan selalu crash. Saya sudah mencoba berbagai solusi seperti mengganti pretrained model, menambahkan 1 layer saja diatas pretrained model yang weightsnya sudah di-freeze, tidak menambahkan layer apa-apa dan hanya menggunakan layer terakhir dari pre-trained model, menggunakan batch_size yang kecil, hingga hanya menggunakan 10 data dari masing-masing dataset tetapi tidak ada yang berhasil memperbaiki permasalahan Out of Memory yang saya temui"
   ]
  },
  {
   "cell_type": "markdown",
   "id": "d9bb642c",
   "metadata": {},
   "source": [
    "Oleh karena itu, pada soal-soal selanjutnya saya hanya akan menggunakan pre-trained modelnya tanpa ada fine-tuning selain .compile() yang saya lakukan diatas"
   ]
  },
  {
   "cell_type": "markdown",
   "id": "a2120c25",
   "metadata": {},
   "source": [
    "# 2d. Analisis performance kedua model"
   ]
  },
  {
   "cell_type": "markdown",
   "id": "19eb45b1",
   "metadata": {},
   "source": [
    "Sesuai permintaan soal, pada soal ini akan dianalisis metric accuracy, precision, recall, dan f1_score dari kedua model"
   ]
  },
  {
   "cell_type": "markdown",
   "id": "6f8b9a9c",
   "metadata": {},
   "source": [
    "## Evaluasi pre-trained model"
   ]
  },
  {
   "cell_type": "code",
   "execution_count": 44,
   "id": "7f576a0f",
   "metadata": {},
   "outputs": [
    {
     "name": "stdout",
     "output_type": "stream",
     "text": [
      "Pretrained Accuracy:  0.51\n",
      "Pretrained Precision:  0.51\n",
      "Pretrained Recall:  1.0\n",
      "Pretrained F1-score:  0.6754966887417219\n"
     ]
    }
   ],
   "source": [
    "from sklearn.metrics import f1_score, precision_score, recall_score, accuracy_score, precision_recall_fscore_support\n",
    "\n",
    "y_pred = pretrained_model(X_test[:100])[0][:,0].numpy()\n",
    "# pick the class with the highest predicted probability\n",
    "y_pred_class = np.argmax(y_pred, axis=1)\n",
    "# convert the target variable to a binary format\n",
    "y_pred_binary = (y_pred_class > 0.5).astype(int)\n",
    "# calculate accuracy\n",
    "accuracy = accuracy_score(y_test[:100], y_pred_binary)\n",
    "print(\"Pretrained Accuracy: \", accuracy)\n",
    "# calculate precision\n",
    "precision = precision_score(y_test[:100], y_pred_binary)\n",
    "print(\"Pretrained Precision: \", precision)\n",
    "# calculate recall\n",
    "recall = recall_score(y_test[:100], y_pred_binary)\n",
    "print(\"Pretrained Recall: \", recall)\n",
    "# calculate f1-score\n",
    "f1 = f1_score(y_test[:100], y_pred_binary)\n",
    "print(\"Pretrained F1-score: \", f1)"
   ]
  },
  {
   "cell_type": "markdown",
   "id": "d5657393",
   "metadata": {},
   "source": [
    "## Evaluasi model LSTM"
   ]
  },
  {
   "cell_type": "code",
   "execution_count": 45,
   "id": "8a37638b",
   "metadata": {},
   "outputs": [
    {
     "name": "stdout",
     "output_type": "stream",
     "text": [
      "100/100 [==============================] - 2s 24ms/step\n",
      "Not-Pretrained Accuracy:  0.783125\n",
      "Not-Pretrained Precision:  0.9117911791179117\n",
      "Not-Pretrained Recall:  0.6295835922933499\n",
      "Not-Pretrained F1-score:  0.7448529411764706\n"
     ]
    }
   ],
   "source": [
    "# make predictions on the test data\n",
    "y_pred = model.predict(X_test)\n",
    "# convert the predicted probabilities to class labels\n",
    "y_pred_class = (y_pred > 0.5).astype(int)\n",
    "# calculate accuracy\n",
    "accuracy = accuracy_score(y_test, y_pred_class)\n",
    "print(\"Not-Pretrained Accuracy: \", accuracy)\n",
    "# calculate precision\n",
    "precision = precision_score(y_test, y_pred_class)\n",
    "print(\"Not-Pretrained Precision: \", precision)\n",
    "# calculate recall\n",
    "recall = recall_score(y_test, y_pred_class)\n",
    "print(\"Not-Pretrained Recall: \", recall)\n",
    "# calculate f1-score\n",
    "f1 = f1_score(y_test, y_pred_class)\n",
    "print(\"Not-Pretrained F1-score: \", f1)"
   ]
  },
  {
   "cell_type": "markdown",
   "id": "c5ab6a51",
   "metadata": {},
   "source": [
    "## Analisis kedua hasil model"
   ]
  },
  {
   "cell_type": "markdown",
   "id": "7fccc7b8",
   "metadata": {},
   "source": [
    "Dari hasil evaluasi 4 metrics yang digunakan, model yang dibuat tanpa pre-trained model mendapatkan hasil akurasi, F1-score, dan precision yang jauh lebih baik dibandingkan pre-trained model. Pre-trained model yang digunakan hanya dapat mengalahkan model LSTM pada metric recall\n",
    "\n",
    "Akurasi menunjukkan seberapa banyak prediksi yang tepat dari seluruh dataset, precision menunjukkan seberapa banyak prediksi positif yang benar, recall menunjukkan seberapa banyak model dapat memprediksi data positif yang ada pada dataset dengan benar, dan F1-score merupakan penggabungan dari precision dan recall\n",
    "\n",
    "Model LSTM meraih precision 91% yang berarti model ini dapat memprediksi headline clickbait yang ada dengan baik (misalnya jika model ini membuat prediksi bahwa ada 100 clickbait headline, 91 prediksi tersebut benar dan 9 prediksi lainnya salah)\n",
    "\n",
    "Pre-trained model meraih recall 100% yang berarti model tersebut dapat memprediksi semua headline clickbait yang ada pada dataset (jika ada 100 clickbait headline pada dataset, model ini bermasil memprediksi semua data tersebut sebagai clickbait)\n",
    "\n",
    "Secara keseluruhan, semakin tinggi nilai setiap metric, maka semakin baik juga performa model tersebut. Dengan hasil yang ada, tampak bahwa model LSTM memiliki performa yang lebih baik dari pre-trained model, terutama dari nilai F1-score nya yang lebih baik 7% (F1-score dapat merepresentasikan performa model secara keseluruhan dengan baik)"
   ]
  }
 ],
 "metadata": {
  "kernelspec": {
   "display_name": "Python 3 (ipykernel)",
   "language": "python",
   "name": "python3"
  },
  "language_info": {
   "codemirror_mode": {
    "name": "ipython",
    "version": 3
   },
   "file_extension": ".py",
   "mimetype": "text/x-python",
   "name": "python",
   "nbconvert_exporter": "python",
   "pygments_lexer": "ipython3",
   "version": "3.9.7"
  }
 },
 "nbformat": 4,
 "nbformat_minor": 5
}
