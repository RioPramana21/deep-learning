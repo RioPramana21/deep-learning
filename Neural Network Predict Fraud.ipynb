{
 "cells": [
  {
   "cell_type": "markdown",
   "metadata": {
    "id": "73dnsYo2VIMo"
   },
   "source": [
    "UTS Deep Learning\n",
    "\n",
    "Nomor 1\n",
    "\n",
    "Nama: Rio Pramana\n",
    "\n",
    "NIM: 2440016804\n",
    "\n",
    "Kelas: LA01"
   ]
  },
  {
   "cell_type": "markdown",
   "metadata": {
    "id": "_e9FDfj_VLJI"
   },
   "source": [
    "Untuk penjelasan code akan diberikan melalui markdown cell dan comment pada code"
   ]
  },
  {
   "cell_type": "markdown",
   "metadata": {
    "id": "gmYyvjJxVMqd"
   },
   "source": [
    "**Please only run this if the code block below is executed in Google Colab**\n",
    "\n",
    "**Otherwise, please ignore this code block below**"
   ]
  },
  {
   "cell_type": "code",
   "execution_count": 1,
   "metadata": {
    "colab": {
     "base_uri": "https://localhost:8080/",
     "height": 92
    },
    "id": "XBgJYp-kVN7C",
    "outputId": "70647130-ce75-415f-a454-c400d86ea51f"
   },
   "outputs": [
    {
     "data": {
      "text/html": [
       "\n",
       "     <input type=\"file\" id=\"files-55d47ca9-0513-43a6-9593-97d759736972\" name=\"files[]\" multiple disabled\n",
       "        style=\"border:none\" />\n",
       "     <output id=\"result-55d47ca9-0513-43a6-9593-97d759736972\">\n",
       "      Upload widget is only available when the cell has been executed in the\n",
       "      current browser session. Please rerun this cell to enable.\n",
       "      </output>\n",
       "      <script>// Copyright 2017 Google LLC\n",
       "//\n",
       "// Licensed under the Apache License, Version 2.0 (the \"License\");\n",
       "// you may not use this file except in compliance with the License.\n",
       "// You may obtain a copy of the License at\n",
       "//\n",
       "//      http://www.apache.org/licenses/LICENSE-2.0\n",
       "//\n",
       "// Unless required by applicable law or agreed to in writing, software\n",
       "// distributed under the License is distributed on an \"AS IS\" BASIS,\n",
       "// WITHOUT WARRANTIES OR CONDITIONS OF ANY KIND, either express or implied.\n",
       "// See the License for the specific language governing permissions and\n",
       "// limitations under the License.\n",
       "\n",
       "/**\n",
       " * @fileoverview Helpers for google.colab Python module.\n",
       " */\n",
       "(function(scope) {\n",
       "function span(text, styleAttributes = {}) {\n",
       "  const element = document.createElement('span');\n",
       "  element.textContent = text;\n",
       "  for (const key of Object.keys(styleAttributes)) {\n",
       "    element.style[key] = styleAttributes[key];\n",
       "  }\n",
       "  return element;\n",
       "}\n",
       "\n",
       "// Max number of bytes which will be uploaded at a time.\n",
       "const MAX_PAYLOAD_SIZE = 100 * 1024;\n",
       "\n",
       "function _uploadFiles(inputId, outputId) {\n",
       "  const steps = uploadFilesStep(inputId, outputId);\n",
       "  const outputElement = document.getElementById(outputId);\n",
       "  // Cache steps on the outputElement to make it available for the next call\n",
       "  // to uploadFilesContinue from Python.\n",
       "  outputElement.steps = steps;\n",
       "\n",
       "  return _uploadFilesContinue(outputId);\n",
       "}\n",
       "\n",
       "// This is roughly an async generator (not supported in the browser yet),\n",
       "// where there are multiple asynchronous steps and the Python side is going\n",
       "// to poll for completion of each step.\n",
       "// This uses a Promise to block the python side on completion of each step,\n",
       "// then passes the result of the previous step as the input to the next step.\n",
       "function _uploadFilesContinue(outputId) {\n",
       "  const outputElement = document.getElementById(outputId);\n",
       "  const steps = outputElement.steps;\n",
       "\n",
       "  const next = steps.next(outputElement.lastPromiseValue);\n",
       "  return Promise.resolve(next.value.promise).then((value) => {\n",
       "    // Cache the last promise value to make it available to the next\n",
       "    // step of the generator.\n",
       "    outputElement.lastPromiseValue = value;\n",
       "    return next.value.response;\n",
       "  });\n",
       "}\n",
       "\n",
       "/**\n",
       " * Generator function which is called between each async step of the upload\n",
       " * process.\n",
       " * @param {string} inputId Element ID of the input file picker element.\n",
       " * @param {string} outputId Element ID of the output display.\n",
       " * @return {!Iterable<!Object>} Iterable of next steps.\n",
       " */\n",
       "function* uploadFilesStep(inputId, outputId) {\n",
       "  const inputElement = document.getElementById(inputId);\n",
       "  inputElement.disabled = false;\n",
       "\n",
       "  const outputElement = document.getElementById(outputId);\n",
       "  outputElement.innerHTML = '';\n",
       "\n",
       "  const pickedPromise = new Promise((resolve) => {\n",
       "    inputElement.addEventListener('change', (e) => {\n",
       "      resolve(e.target.files);\n",
       "    });\n",
       "  });\n",
       "\n",
       "  const cancel = document.createElement('button');\n",
       "  inputElement.parentElement.appendChild(cancel);\n",
       "  cancel.textContent = 'Cancel upload';\n",
       "  const cancelPromise = new Promise((resolve) => {\n",
       "    cancel.onclick = () => {\n",
       "      resolve(null);\n",
       "    };\n",
       "  });\n",
       "\n",
       "  // Wait for the user to pick the files.\n",
       "  const files = yield {\n",
       "    promise: Promise.race([pickedPromise, cancelPromise]),\n",
       "    response: {\n",
       "      action: 'starting',\n",
       "    }\n",
       "  };\n",
       "\n",
       "  cancel.remove();\n",
       "\n",
       "  // Disable the input element since further picks are not allowed.\n",
       "  inputElement.disabled = true;\n",
       "\n",
       "  if (!files) {\n",
       "    return {\n",
       "      response: {\n",
       "        action: 'complete',\n",
       "      }\n",
       "    };\n",
       "  }\n",
       "\n",
       "  for (const file of files) {\n",
       "    const li = document.createElement('li');\n",
       "    li.append(span(file.name, {fontWeight: 'bold'}));\n",
       "    li.append(span(\n",
       "        `(${file.type || 'n/a'}) - ${file.size} bytes, ` +\n",
       "        `last modified: ${\n",
       "            file.lastModifiedDate ? file.lastModifiedDate.toLocaleDateString() :\n",
       "                                    'n/a'} - `));\n",
       "    const percent = span('0% done');\n",
       "    li.appendChild(percent);\n",
       "\n",
       "    outputElement.appendChild(li);\n",
       "\n",
       "    const fileDataPromise = new Promise((resolve) => {\n",
       "      const reader = new FileReader();\n",
       "      reader.onload = (e) => {\n",
       "        resolve(e.target.result);\n",
       "      };\n",
       "      reader.readAsArrayBuffer(file);\n",
       "    });\n",
       "    // Wait for the data to be ready.\n",
       "    let fileData = yield {\n",
       "      promise: fileDataPromise,\n",
       "      response: {\n",
       "        action: 'continue',\n",
       "      }\n",
       "    };\n",
       "\n",
       "    // Use a chunked sending to avoid message size limits. See b/62115660.\n",
       "    let position = 0;\n",
       "    do {\n",
       "      const length = Math.min(fileData.byteLength - position, MAX_PAYLOAD_SIZE);\n",
       "      const chunk = new Uint8Array(fileData, position, length);\n",
       "      position += length;\n",
       "\n",
       "      const base64 = btoa(String.fromCharCode.apply(null, chunk));\n",
       "      yield {\n",
       "        response: {\n",
       "          action: 'append',\n",
       "          file: file.name,\n",
       "          data: base64,\n",
       "        },\n",
       "      };\n",
       "\n",
       "      let percentDone = fileData.byteLength === 0 ?\n",
       "          100 :\n",
       "          Math.round((position / fileData.byteLength) * 100);\n",
       "      percent.textContent = `${percentDone}% done`;\n",
       "\n",
       "    } while (position < fileData.byteLength);\n",
       "  }\n",
       "\n",
       "  // All done.\n",
       "  yield {\n",
       "    response: {\n",
       "      action: 'complete',\n",
       "    }\n",
       "  };\n",
       "}\n",
       "\n",
       "scope.google = scope.google || {};\n",
       "scope.google.colab = scope.google.colab || {};\n",
       "scope.google.colab._files = {\n",
       "  _uploadFiles,\n",
       "  _uploadFilesContinue,\n",
       "};\n",
       "})(self);\n",
       "</script> "
      ],
      "text/plain": [
       "<IPython.core.display.HTML object>"
      ]
     },
     "metadata": {},
     "output_type": "display_data"
    },
    {
     "name": "stdout",
     "output_type": "stream",
     "text": [
      "Saving creditcard.csv to creditcard.csv\n",
      "User uploaded file \"creditcard.csv\" with length 36167023 bytes\n"
     ]
    }
   ],
   "source": [
    "# Only run this in Google Colab\n",
    "from google.colab import files\n",
    "\n",
    "uploaded = files.upload()\n",
    "\n",
    "for fn in uploaded.keys():\n",
    "  print('User uploaded file \"{name}\" with length {length} bytes'.format(\n",
    "      name=fn, length=len(uploaded[fn])))"
   ]
  },
  {
   "cell_type": "markdown",
   "metadata": {
    "id": "z5yf9eRHVPeL"
   },
   "source": [
    "**Import libraries**"
   ]
  },
  {
   "cell_type": "code",
   "execution_count": 2,
   "metadata": {
    "id": "ztAlf17vVQfn"
   },
   "outputs": [],
   "source": [
    "import numpy as np\n",
    "import pandas as pd\n",
    "from sklearn.model_selection import train_test_split\n",
    "from sklearn.preprocessing import StandardScaler\n",
    "from sklearn.metrics import confusion_matrix, accuracy_score, f1_score, classification_report\n",
    "\n",
    "# Untuk visualisasi\n",
    "import seaborn as sns\n",
    "from matplotlib import pyplot as plt\n",
    "\n",
    "# Menggunakan pytorch\n",
    "import torch\n",
    "import torch.nn as nn\n",
    "import torch.nn.functional as F\n",
    "from torch.autograd import Variable\n",
    "from torch.utils.data import Dataset, DataLoader"
   ]
  },
  {
   "cell_type": "markdown",
   "metadata": {
    "id": "9PXwFG2nYyvD"
   },
   "source": [
    "Setting random seed dengan tujuan untuk mencoba menghasilkan hasil yang sama (agar hasil memiliki kemungkinan yang lebih tinggi untuk tidak berubah setiap kali code dijalankan sehingga lebih mudah untuk dianalisis)"
   ]
  },
  {
   "cell_type": "code",
   "execution_count": 3,
   "metadata": {
    "colab": {
     "base_uri": "https://localhost:8080/"
    },
    "id": "8o2FnP4WY8EP",
    "outputId": "14bbd165-c580-46ce-92d2-1e3cab815c1e"
   },
   "outputs": [
    {
     "data": {
      "text/plain": [
       "<torch._C.Generator at 0x7f56baa08eb0>"
      ]
     },
     "execution_count": 3,
     "metadata": {},
     "output_type": "execute_result"
    }
   ],
   "source": [
    "seed = 42\n",
    "\n",
    "np.random.seed(seed)\n",
    "torch.manual_seed(seed)"
   ]
  },
  {
   "cell_type": "markdown",
   "metadata": {
    "id": "Ux7OKKFtVRz9"
   },
   "source": [
    "# **a. Preprocessing data**"
   ]
  },
  {
   "cell_type": "markdown",
   "metadata": {
    "id": "FV_nQoodVUAF"
   },
   "source": [
    "Dataset yang diberikan berupa file .csv mengenai credit card fraud"
   ]
  },
  {
   "cell_type": "markdown",
   "metadata": {
    "id": "nGYwjL9KVWJR"
   },
   "source": [
    "Kita baca terlebih dahulu datasetnya kemudian simpan di _ds_"
   ]
  },
  {
   "cell_type": "code",
   "execution_count": 4,
   "metadata": {
    "colab": {
     "base_uri": "https://localhost:8080/",
     "height": 206
    },
    "id": "RdoqLIjnVXC2",
    "outputId": "09233c36-a80d-4963-c411-740efdaf4a1d"
   },
   "outputs": [
    {
     "data": {
      "text/html": [
       "\n",
       "  <div id=\"df-555e7cba-4fec-4b6d-88e7-3a6b6b0ac3f4\">\n",
       "    <div class=\"colab-df-container\">\n",
       "      <div>\n",
       "<style scoped>\n",
       "    .dataframe tbody tr th:only-of-type {\n",
       "        vertical-align: middle;\n",
       "    }\n",
       "\n",
       "    .dataframe tbody tr th {\n",
       "        vertical-align: top;\n",
       "    }\n",
       "\n",
       "    .dataframe thead th {\n",
       "        text-align: right;\n",
       "    }\n",
       "</style>\n",
       "<table border=\"1\" class=\"dataframe\">\n",
       "  <thead>\n",
       "    <tr style=\"text-align: right;\">\n",
       "      <th></th>\n",
       "      <th>V1</th>\n",
       "      <th>V2</th>\n",
       "      <th>V3</th>\n",
       "      <th>V4</th>\n",
       "      <th>V5</th>\n",
       "      <th>V6</th>\n",
       "      <th>V7</th>\n",
       "      <th>V8</th>\n",
       "      <th>V9</th>\n",
       "      <th>V10</th>\n",
       "      <th>Class</th>\n",
       "    </tr>\n",
       "  </thead>\n",
       "  <tbody>\n",
       "    <tr>\n",
       "      <th>0</th>\n",
       "      <td>-1.359807</td>\n",
       "      <td>-0.072781</td>\n",
       "      <td>2.536347</td>\n",
       "      <td>1.378155</td>\n",
       "      <td>-0.338321</td>\n",
       "      <td>0.462388</td>\n",
       "      <td>0.239599</td>\n",
       "      <td>0.098698</td>\n",
       "      <td>0.363787</td>\n",
       "      <td>0.090794</td>\n",
       "      <td>0</td>\n",
       "    </tr>\n",
       "    <tr>\n",
       "      <th>1</th>\n",
       "      <td>1.191857</td>\n",
       "      <td>0.266151</td>\n",
       "      <td>0.166480</td>\n",
       "      <td>0.448154</td>\n",
       "      <td>0.060018</td>\n",
       "      <td>-0.082361</td>\n",
       "      <td>-0.078803</td>\n",
       "      <td>0.085102</td>\n",
       "      <td>-0.255425</td>\n",
       "      <td>-0.166974</td>\n",
       "      <td>0</td>\n",
       "    </tr>\n",
       "    <tr>\n",
       "      <th>2</th>\n",
       "      <td>-1.358354</td>\n",
       "      <td>-1.340163</td>\n",
       "      <td>1.773209</td>\n",
       "      <td>0.379780</td>\n",
       "      <td>-0.503198</td>\n",
       "      <td>1.800499</td>\n",
       "      <td>0.791461</td>\n",
       "      <td>0.247676</td>\n",
       "      <td>-1.514654</td>\n",
       "      <td>0.207643</td>\n",
       "      <td>0</td>\n",
       "    </tr>\n",
       "    <tr>\n",
       "      <th>3</th>\n",
       "      <td>-0.966272</td>\n",
       "      <td>-0.185226</td>\n",
       "      <td>1.792993</td>\n",
       "      <td>-0.863291</td>\n",
       "      <td>-0.010309</td>\n",
       "      <td>1.247203</td>\n",
       "      <td>0.237609</td>\n",
       "      <td>0.377436</td>\n",
       "      <td>-1.387024</td>\n",
       "      <td>-0.054952</td>\n",
       "      <td>0</td>\n",
       "    </tr>\n",
       "    <tr>\n",
       "      <th>4</th>\n",
       "      <td>NaN</td>\n",
       "      <td>0.877737</td>\n",
       "      <td>1.548718</td>\n",
       "      <td>0.403034</td>\n",
       "      <td>-0.407193</td>\n",
       "      <td>0.095921</td>\n",
       "      <td>0.592941</td>\n",
       "      <td>-0.270533</td>\n",
       "      <td>0.817739</td>\n",
       "      <td>0.753074</td>\n",
       "      <td>0</td>\n",
       "    </tr>\n",
       "  </tbody>\n",
       "</table>\n",
       "</div>\n",
       "      <button class=\"colab-df-convert\" onclick=\"convertToInteractive('df-555e7cba-4fec-4b6d-88e7-3a6b6b0ac3f4')\"\n",
       "              title=\"Convert this dataframe to an interactive table.\"\n",
       "              style=\"display:none;\">\n",
       "        \n",
       "  <svg xmlns=\"http://www.w3.org/2000/svg\" height=\"24px\"viewBox=\"0 0 24 24\"\n",
       "       width=\"24px\">\n",
       "    <path d=\"M0 0h24v24H0V0z\" fill=\"none\"/>\n",
       "    <path d=\"M18.56 5.44l.94 2.06.94-2.06 2.06-.94-2.06-.94-.94-2.06-.94 2.06-2.06.94zm-11 1L8.5 8.5l.94-2.06 2.06-.94-2.06-.94L8.5 2.5l-.94 2.06-2.06.94zm10 10l.94 2.06.94-2.06 2.06-.94-2.06-.94-.94-2.06-.94 2.06-2.06.94z\"/><path d=\"M17.41 7.96l-1.37-1.37c-.4-.4-.92-.59-1.43-.59-.52 0-1.04.2-1.43.59L10.3 9.45l-7.72 7.72c-.78.78-.78 2.05 0 2.83L4 21.41c.39.39.9.59 1.41.59.51 0 1.02-.2 1.41-.59l7.78-7.78 2.81-2.81c.8-.78.8-2.07 0-2.86zM5.41 20L4 18.59l7.72-7.72 1.47 1.35L5.41 20z\"/>\n",
       "  </svg>\n",
       "      </button>\n",
       "      \n",
       "  <style>\n",
       "    .colab-df-container {\n",
       "      display:flex;\n",
       "      flex-wrap:wrap;\n",
       "      gap: 12px;\n",
       "    }\n",
       "\n",
       "    .colab-df-convert {\n",
       "      background-color: #E8F0FE;\n",
       "      border: none;\n",
       "      border-radius: 50%;\n",
       "      cursor: pointer;\n",
       "      display: none;\n",
       "      fill: #1967D2;\n",
       "      height: 32px;\n",
       "      padding: 0 0 0 0;\n",
       "      width: 32px;\n",
       "    }\n",
       "\n",
       "    .colab-df-convert:hover {\n",
       "      background-color: #E2EBFA;\n",
       "      box-shadow: 0px 1px 2px rgba(60, 64, 67, 0.3), 0px 1px 3px 1px rgba(60, 64, 67, 0.15);\n",
       "      fill: #174EA6;\n",
       "    }\n",
       "\n",
       "    [theme=dark] .colab-df-convert {\n",
       "      background-color: #3B4455;\n",
       "      fill: #D2E3FC;\n",
       "    }\n",
       "\n",
       "    [theme=dark] .colab-df-convert:hover {\n",
       "      background-color: #434B5C;\n",
       "      box-shadow: 0px 1px 3px 1px rgba(0, 0, 0, 0.15);\n",
       "      filter: drop-shadow(0px 1px 2px rgba(0, 0, 0, 0.3));\n",
       "      fill: #FFFFFF;\n",
       "    }\n",
       "  </style>\n",
       "\n",
       "      <script>\n",
       "        const buttonEl =\n",
       "          document.querySelector('#df-555e7cba-4fec-4b6d-88e7-3a6b6b0ac3f4 button.colab-df-convert');\n",
       "        buttonEl.style.display =\n",
       "          google.colab.kernel.accessAllowed ? 'block' : 'none';\n",
       "\n",
       "        async function convertToInteractive(key) {\n",
       "          const element = document.querySelector('#df-555e7cba-4fec-4b6d-88e7-3a6b6b0ac3f4');\n",
       "          const dataTable =\n",
       "            await google.colab.kernel.invokeFunction('convertToInteractive',\n",
       "                                                     [key], {});\n",
       "          if (!dataTable) return;\n",
       "\n",
       "          const docLinkHtml = 'Like what you see? Visit the ' +\n",
       "            '<a target=\"_blank\" href=https://colab.research.google.com/notebooks/data_table.ipynb>data table notebook</a>'\n",
       "            + ' to learn more about interactive tables.';\n",
       "          element.innerHTML = '';\n",
       "          dataTable['output_type'] = 'display_data';\n",
       "          await google.colab.output.renderOutput(dataTable, element);\n",
       "          const docLink = document.createElement('div');\n",
       "          docLink.innerHTML = docLinkHtml;\n",
       "          element.appendChild(docLink);\n",
       "        }\n",
       "      </script>\n",
       "    </div>\n",
       "  </div>\n",
       "  "
      ],
      "text/plain": [
       "         V1        V2        V3        V4        V5        V6        V7  \\\n",
       "0 -1.359807 -0.072781  2.536347  1.378155 -0.338321  0.462388  0.239599   \n",
       "1  1.191857  0.266151  0.166480  0.448154  0.060018 -0.082361 -0.078803   \n",
       "2 -1.358354 -1.340163  1.773209  0.379780 -0.503198  1.800499  0.791461   \n",
       "3 -0.966272 -0.185226  1.792993 -0.863291 -0.010309  1.247203  0.237609   \n",
       "4       NaN  0.877737  1.548718  0.403034 -0.407193  0.095921  0.592941   \n",
       "\n",
       "         V8        V9       V10  Class  \n",
       "0  0.098698  0.363787  0.090794      0  \n",
       "1  0.085102 -0.255425 -0.166974      0  \n",
       "2  0.247676 -1.514654  0.207643      0  \n",
       "3  0.377436 -1.387024 -0.054952      0  \n",
       "4 -0.270533  0.817739  0.753074      0  "
      ]
     },
     "execution_count": 4,
     "metadata": {},
     "output_type": "execute_result"
    }
   ],
   "source": [
    "# Baca dataset dari file .csv\n",
    "ds = pd.read_csv('creditcard.csv')\n",
    "\n",
    "# Tampilkan 5 data awal untuk melihat dataset secara sekilas\n",
    "ds.head(5)"
   ]
  },
  {
   "cell_type": "markdown",
   "metadata": {
    "id": "SJinhNNEVYiX"
   },
   "source": [
    "Sebelum melakukan preprocessing, saya lakukan explorasi data secara singkat terlebih dahulu"
   ]
  },
  {
   "cell_type": "code",
   "execution_count": 5,
   "metadata": {
    "colab": {
     "base_uri": "https://localhost:8080/"
    },
    "id": "NMEyxw_FVZf5",
    "outputId": "9692131f-578f-4f77-a1f3-219c79be70b6"
   },
   "outputs": [
    {
     "data": {
      "text/plain": [
       "(284807, 11)"
      ]
     },
     "execution_count": 5,
     "metadata": {},
     "output_type": "execute_result"
    }
   ],
   "source": [
    "ds.shape"
   ]
  },
  {
   "cell_type": "markdown",
   "metadata": {
    "id": "SB3QwpKbVcqa"
   },
   "source": [
    "Terdapat 284807 rows of data dan 11 columns"
   ]
  },
  {
   "cell_type": "code",
   "execution_count": 6,
   "metadata": {
    "colab": {
     "base_uri": "https://localhost:8080/",
     "height": 344
    },
    "id": "EDBKCRnmVdjy",
    "outputId": "d1c48fc8-c389-490d-8a0d-d9a79d744f15"
   },
   "outputs": [
    {
     "data": {
      "text/html": [
       "\n",
       "  <div id=\"df-947fa27b-7a8c-41fc-8e4b-58023325530d\">\n",
       "    <div class=\"colab-df-container\">\n",
       "      <div>\n",
       "<style scoped>\n",
       "    .dataframe tbody tr th:only-of-type {\n",
       "        vertical-align: middle;\n",
       "    }\n",
       "\n",
       "    .dataframe tbody tr th {\n",
       "        vertical-align: top;\n",
       "    }\n",
       "\n",
       "    .dataframe thead th {\n",
       "        text-align: right;\n",
       "    }\n",
       "</style>\n",
       "<table border=\"1\" class=\"dataframe\">\n",
       "  <thead>\n",
       "    <tr style=\"text-align: right;\">\n",
       "      <th></th>\n",
       "      <th>V1</th>\n",
       "      <th>V2</th>\n",
       "      <th>V3</th>\n",
       "      <th>V4</th>\n",
       "      <th>V5</th>\n",
       "      <th>V6</th>\n",
       "      <th>V7</th>\n",
       "      <th>V8</th>\n",
       "      <th>V9</th>\n",
       "      <th>V10</th>\n",
       "      <th>Class</th>\n",
       "    </tr>\n",
       "  </thead>\n",
       "  <tbody>\n",
       "    <tr>\n",
       "      <th>count</th>\n",
       "      <td>284802.000000</td>\n",
       "      <td>2.848030e+05</td>\n",
       "      <td>284801.000000</td>\n",
       "      <td>284800.000000</td>\n",
       "      <td>284801.000000</td>\n",
       "      <td>284802.000000</td>\n",
       "      <td>284802.000000</td>\n",
       "      <td>284801.000000</td>\n",
       "      <td>284799.000000</td>\n",
       "      <td>284802.000000</td>\n",
       "      <td>284807.000000</td>\n",
       "    </tr>\n",
       "    <tr>\n",
       "      <th>mean</th>\n",
       "      <td>0.000013</td>\n",
       "      <td>7.430608e-07</td>\n",
       "      <td>-0.000028</td>\n",
       "      <td>-0.000011</td>\n",
       "      <td>0.000002</td>\n",
       "      <td>-0.000007</td>\n",
       "      <td>-0.000003</td>\n",
       "      <td>-0.000011</td>\n",
       "      <td>-0.000003</td>\n",
       "      <td>-0.000008</td>\n",
       "      <td>0.001727</td>\n",
       "    </tr>\n",
       "    <tr>\n",
       "      <th>std</th>\n",
       "      <td>1.958699</td>\n",
       "      <td>1.651318e+00</td>\n",
       "      <td>1.516254</td>\n",
       "      <td>1.415866</td>\n",
       "      <td>1.380261</td>\n",
       "      <td>1.332276</td>\n",
       "      <td>1.237102</td>\n",
       "      <td>1.194359</td>\n",
       "      <td>1.098643</td>\n",
       "      <td>1.088855</td>\n",
       "      <td>0.041527</td>\n",
       "    </tr>\n",
       "    <tr>\n",
       "      <th>min</th>\n",
       "      <td>-56.407510</td>\n",
       "      <td>-7.271573e+01</td>\n",
       "      <td>-48.325589</td>\n",
       "      <td>-5.683171</td>\n",
       "      <td>-113.743307</td>\n",
       "      <td>-26.160506</td>\n",
       "      <td>-43.557242</td>\n",
       "      <td>-73.216718</td>\n",
       "      <td>-13.434066</td>\n",
       "      <td>-24.588262</td>\n",
       "      <td>0.000000</td>\n",
       "    </tr>\n",
       "    <tr>\n",
       "      <th>25%</th>\n",
       "      <td>-0.920356</td>\n",
       "      <td>-5.985499e-01</td>\n",
       "      <td>-0.890375</td>\n",
       "      <td>-0.848639</td>\n",
       "      <td>-0.691604</td>\n",
       "      <td>-0.768296</td>\n",
       "      <td>-0.554080</td>\n",
       "      <td>-0.208633</td>\n",
       "      <td>-0.643108</td>\n",
       "      <td>-0.535436</td>\n",
       "      <td>0.000000</td>\n",
       "    </tr>\n",
       "    <tr>\n",
       "      <th>50%</th>\n",
       "      <td>0.018110</td>\n",
       "      <td>6.546722e-02</td>\n",
       "      <td>0.179832</td>\n",
       "      <td>-0.019848</td>\n",
       "      <td>-0.054332</td>\n",
       "      <td>-0.274204</td>\n",
       "      <td>0.040088</td>\n",
       "      <td>0.022356</td>\n",
       "      <td>-0.051429</td>\n",
       "      <td>-0.092926</td>\n",
       "      <td>0.000000</td>\n",
       "    </tr>\n",
       "    <tr>\n",
       "      <th>75%</th>\n",
       "      <td>1.315645</td>\n",
       "      <td>8.037342e-01</td>\n",
       "      <td>1.027167</td>\n",
       "      <td>0.743328</td>\n",
       "      <td>0.611927</td>\n",
       "      <td>0.398558</td>\n",
       "      <td>0.570441</td>\n",
       "      <td>0.327346</td>\n",
       "      <td>0.597152</td>\n",
       "      <td>0.453898</td>\n",
       "      <td>0.000000</td>\n",
       "    </tr>\n",
       "    <tr>\n",
       "      <th>max</th>\n",
       "      <td>2.454930</td>\n",
       "      <td>2.205773e+01</td>\n",
       "      <td>9.382558</td>\n",
       "      <td>16.875344</td>\n",
       "      <td>34.801666</td>\n",
       "      <td>73.301626</td>\n",
       "      <td>120.589494</td>\n",
       "      <td>20.007208</td>\n",
       "      <td>15.594995</td>\n",
       "      <td>23.745136</td>\n",
       "      <td>1.000000</td>\n",
       "    </tr>\n",
       "  </tbody>\n",
       "</table>\n",
       "</div>\n",
       "      <button class=\"colab-df-convert\" onclick=\"convertToInteractive('df-947fa27b-7a8c-41fc-8e4b-58023325530d')\"\n",
       "              title=\"Convert this dataframe to an interactive table.\"\n",
       "              style=\"display:none;\">\n",
       "        \n",
       "  <svg xmlns=\"http://www.w3.org/2000/svg\" height=\"24px\"viewBox=\"0 0 24 24\"\n",
       "       width=\"24px\">\n",
       "    <path d=\"M0 0h24v24H0V0z\" fill=\"none\"/>\n",
       "    <path d=\"M18.56 5.44l.94 2.06.94-2.06 2.06-.94-2.06-.94-.94-2.06-.94 2.06-2.06.94zm-11 1L8.5 8.5l.94-2.06 2.06-.94-2.06-.94L8.5 2.5l-.94 2.06-2.06.94zm10 10l.94 2.06.94-2.06 2.06-.94-2.06-.94-.94-2.06-.94 2.06-2.06.94z\"/><path d=\"M17.41 7.96l-1.37-1.37c-.4-.4-.92-.59-1.43-.59-.52 0-1.04.2-1.43.59L10.3 9.45l-7.72 7.72c-.78.78-.78 2.05 0 2.83L4 21.41c.39.39.9.59 1.41.59.51 0 1.02-.2 1.41-.59l7.78-7.78 2.81-2.81c.8-.78.8-2.07 0-2.86zM5.41 20L4 18.59l7.72-7.72 1.47 1.35L5.41 20z\"/>\n",
       "  </svg>\n",
       "      </button>\n",
       "      \n",
       "  <style>\n",
       "    .colab-df-container {\n",
       "      display:flex;\n",
       "      flex-wrap:wrap;\n",
       "      gap: 12px;\n",
       "    }\n",
       "\n",
       "    .colab-df-convert {\n",
       "      background-color: #E8F0FE;\n",
       "      border: none;\n",
       "      border-radius: 50%;\n",
       "      cursor: pointer;\n",
       "      display: none;\n",
       "      fill: #1967D2;\n",
       "      height: 32px;\n",
       "      padding: 0 0 0 0;\n",
       "      width: 32px;\n",
       "    }\n",
       "\n",
       "    .colab-df-convert:hover {\n",
       "      background-color: #E2EBFA;\n",
       "      box-shadow: 0px 1px 2px rgba(60, 64, 67, 0.3), 0px 1px 3px 1px rgba(60, 64, 67, 0.15);\n",
       "      fill: #174EA6;\n",
       "    }\n",
       "\n",
       "    [theme=dark] .colab-df-convert {\n",
       "      background-color: #3B4455;\n",
       "      fill: #D2E3FC;\n",
       "    }\n",
       "\n",
       "    [theme=dark] .colab-df-convert:hover {\n",
       "      background-color: #434B5C;\n",
       "      box-shadow: 0px 1px 3px 1px rgba(0, 0, 0, 0.15);\n",
       "      filter: drop-shadow(0px 1px 2px rgba(0, 0, 0, 0.3));\n",
       "      fill: #FFFFFF;\n",
       "    }\n",
       "  </style>\n",
       "\n",
       "      <script>\n",
       "        const buttonEl =\n",
       "          document.querySelector('#df-947fa27b-7a8c-41fc-8e4b-58023325530d button.colab-df-convert');\n",
       "        buttonEl.style.display =\n",
       "          google.colab.kernel.accessAllowed ? 'block' : 'none';\n",
       "\n",
       "        async function convertToInteractive(key) {\n",
       "          const element = document.querySelector('#df-947fa27b-7a8c-41fc-8e4b-58023325530d');\n",
       "          const dataTable =\n",
       "            await google.colab.kernel.invokeFunction('convertToInteractive',\n",
       "                                                     [key], {});\n",
       "          if (!dataTable) return;\n",
       "\n",
       "          const docLinkHtml = 'Like what you see? Visit the ' +\n",
       "            '<a target=\"_blank\" href=https://colab.research.google.com/notebooks/data_table.ipynb>data table notebook</a>'\n",
       "            + ' to learn more about interactive tables.';\n",
       "          element.innerHTML = '';\n",
       "          dataTable['output_type'] = 'display_data';\n",
       "          await google.colab.output.renderOutput(dataTable, element);\n",
       "          const docLink = document.createElement('div');\n",
       "          docLink.innerHTML = docLinkHtml;\n",
       "          element.appendChild(docLink);\n",
       "        }\n",
       "      </script>\n",
       "    </div>\n",
       "  </div>\n",
       "  "
      ],
      "text/plain": [
       "                  V1            V2             V3             V4  \\\n",
       "count  284802.000000  2.848030e+05  284801.000000  284800.000000   \n",
       "mean        0.000013  7.430608e-07      -0.000028      -0.000011   \n",
       "std         1.958699  1.651318e+00       1.516254       1.415866   \n",
       "min       -56.407510 -7.271573e+01     -48.325589      -5.683171   \n",
       "25%        -0.920356 -5.985499e-01      -0.890375      -0.848639   \n",
       "50%         0.018110  6.546722e-02       0.179832      -0.019848   \n",
       "75%         1.315645  8.037342e-01       1.027167       0.743328   \n",
       "max         2.454930  2.205773e+01       9.382558      16.875344   \n",
       "\n",
       "                  V5             V6             V7             V8  \\\n",
       "count  284801.000000  284802.000000  284802.000000  284801.000000   \n",
       "mean        0.000002      -0.000007      -0.000003      -0.000011   \n",
       "std         1.380261       1.332276       1.237102       1.194359   \n",
       "min      -113.743307     -26.160506     -43.557242     -73.216718   \n",
       "25%        -0.691604      -0.768296      -0.554080      -0.208633   \n",
       "50%        -0.054332      -0.274204       0.040088       0.022356   \n",
       "75%         0.611927       0.398558       0.570441       0.327346   \n",
       "max        34.801666      73.301626     120.589494      20.007208   \n",
       "\n",
       "                  V9            V10          Class  \n",
       "count  284799.000000  284802.000000  284807.000000  \n",
       "mean       -0.000003      -0.000008       0.001727  \n",
       "std         1.098643       1.088855       0.041527  \n",
       "min       -13.434066     -24.588262       0.000000  \n",
       "25%        -0.643108      -0.535436       0.000000  \n",
       "50%        -0.051429      -0.092926       0.000000  \n",
       "75%         0.597152       0.453898       0.000000  \n",
       "max        15.594995      23.745136       1.000000  "
      ]
     },
     "execution_count": 6,
     "metadata": {},
     "output_type": "execute_result"
    }
   ],
   "source": [
    "ds.describe()"
   ]
  },
  {
   "cell_type": "code",
   "execution_count": 7,
   "metadata": {
    "colab": {
     "base_uri": "https://localhost:8080/"
    },
    "id": "6-XjSuanVeu9",
    "outputId": "e0aa60c8-f532-4e64-9ba6-45d979bb9673"
   },
   "outputs": [
    {
     "name": "stdout",
     "output_type": "stream",
     "text": [
      "<class 'pandas.core.frame.DataFrame'>\n",
      "RangeIndex: 284807 entries, 0 to 284806\n",
      "Data columns (total 11 columns):\n",
      " #   Column  Non-Null Count   Dtype  \n",
      "---  ------  --------------   -----  \n",
      " 0   V1      284802 non-null  float64\n",
      " 1   V2      284803 non-null  float64\n",
      " 2   V3      284801 non-null  float64\n",
      " 3   V4      284800 non-null  float64\n",
      " 4   V5      284801 non-null  float64\n",
      " 5   V6      284802 non-null  float64\n",
      " 6   V7      284802 non-null  float64\n",
      " 7   V8      284801 non-null  float64\n",
      " 8   V9      284799 non-null  float64\n",
      " 9   V10     284802 non-null  float64\n",
      " 10  Class   284807 non-null  int64  \n",
      "dtypes: float64(10), int64(1)\n",
      "memory usage: 23.9 MB\n"
     ]
    }
   ],
   "source": [
    "ds.info()"
   ]
  },
  {
   "cell_type": "markdown",
   "metadata": {
    "id": "Mdacml9uVgYB"
   },
   "source": [
    "**Missing Values**"
   ]
  },
  {
   "cell_type": "markdown",
   "metadata": {
    "id": "eflwgzBNVhsb"
   },
   "source": [
    "Dari hasil ds.info(), terlihat ada masalah **missing values** dari dataset yang diberikan (terdapat columns yang memiliki value null/NaN)"
   ]
  },
  {
   "cell_type": "markdown",
   "metadata": {
    "id": "xhpM8K4GViqU"
   },
   "source": [
    "Untuk melihat columns apa saja yang memiliki null/NaN value, kita bisa menjalankan code berikut"
   ]
  },
  {
   "cell_type": "code",
   "execution_count": 8,
   "metadata": {
    "colab": {
     "base_uri": "https://localhost:8080/"
    },
    "id": "Su_TMiENVjhn",
    "outputId": "36ca5c38-0bc3-4914-d1c4-e4aec9626634"
   },
   "outputs": [
    {
     "data": {
      "text/plain": [
       "V1       5\n",
       "V2       4\n",
       "V3       6\n",
       "V4       7\n",
       "V5       6\n",
       "V6       5\n",
       "V7       5\n",
       "V8       6\n",
       "V9       8\n",
       "V10      5\n",
       "Class    0\n",
       "dtype: int64"
      ]
     },
     "execution_count": 8,
     "metadata": {},
     "output_type": "execute_result"
    }
   ],
   "source": [
    "ds.isnull().sum()"
   ]
  },
  {
   "cell_type": "markdown",
   "metadata": {
    "id": "m3M9XN_GVkpB"
   },
   "source": [
    "Dari dataset yang diberikan, column V1 sampai V10 (features) memiliki beberapa missing values\n",
    "\n",
    "Namun, jumlah missing values yang ada pada dataset sangat sedikit jika dibandingkan dengan jumlah data yang ada di dataset sehingga jika dihilangkan tidak akan berpengaruh secara signifikan terhadap model nantinya\n",
    "\n",
    "Maka, saya memilih untuk tidak memproses data-data yang memiliki null/NaN values"
   ]
  },
  {
   "cell_type": "code",
   "execution_count": 9,
   "metadata": {
    "id": "ogFVayg5Vl6l"
   },
   "outputs": [],
   "source": [
    "# Drop rows yang memiliki NaN/null\n",
    "no_null_ds = ds.dropna() #Simpan di no_null_ds"
   ]
  },
  {
   "cell_type": "code",
   "execution_count": 10,
   "metadata": {
    "colab": {
     "base_uri": "https://localhost:8080/"
    },
    "id": "yYUNXQWGVmdP",
    "outputId": "3eff5418-6ad9-4744-f65f-a5da02e9fbbf"
   },
   "outputs": [
    {
     "data": {
      "text/plain": [
       "V1       0\n",
       "V2       0\n",
       "V3       0\n",
       "V4       0\n",
       "V5       0\n",
       "V6       0\n",
       "V7       0\n",
       "V8       0\n",
       "V9       0\n",
       "V10      0\n",
       "Class    0\n",
       "dtype: int64"
      ]
     },
     "execution_count": 10,
     "metadata": {},
     "output_type": "execute_result"
    }
   ],
   "source": [
    "# Mengecek data yang null di no_null_ds\n",
    "no_null_ds.isnull().sum()"
   ]
  },
  {
   "cell_type": "code",
   "execution_count": 11,
   "metadata": {
    "colab": {
     "base_uri": "https://localhost:8080/"
    },
    "id": "39C4NqHKVnKm",
    "outputId": "0fea14d4-fb92-448a-e461-cf5ffeda224b"
   },
   "outputs": [
    {
     "data": {
      "text/plain": [
       "(284758, 11)"
      ]
     },
     "execution_count": 11,
     "metadata": {},
     "output_type": "execute_result"
    }
   ],
   "source": [
    "no_null_ds.shape"
   ]
  },
  {
   "cell_type": "markdown",
   "metadata": {
    "id": "e2bJjmpwVoH5"
   },
   "source": [
    "Seperti yang dapat dilihat pada cell diatas, sudah tidak ada lagi null values pada dataset yang akan diproses\n",
    "\n",
    "Jumlah rows of data yang awalnya 284807 berubah menjadi 284758 (berkurang 49 rows of data)"
   ]
  },
  {
   "cell_type": "markdown",
   "metadata": {
    "id": "x6pw87PZVpIy"
   },
   "source": [
    "Untuk melakukan preprocessing selanjutnya, saya pisahkan terlebih dahulu dataset menjadi features dan labelsnya (X dan y)"
   ]
  },
  {
   "cell_type": "code",
   "execution_count": 12,
   "metadata": {
    "id": "rgmRZB8NVp3I"
   },
   "outputs": [],
   "source": [
    "X = no_null_ds[no_null_ds.columns[0:10]].values\n",
    "y = no_null_ds[\"Class\"].values"
   ]
  },
  {
   "cell_type": "code",
   "execution_count": 13,
   "metadata": {
    "colab": {
     "base_uri": "https://localhost:8080/"
    },
    "id": "zDvQVyCQVqe0",
    "outputId": "8895db62-dd89-41a9-96b1-e802cba9a219"
   },
   "outputs": [
    {
     "name": "stdout",
     "output_type": "stream",
     "text": [
      "(284758, 10) (284758,)\n"
     ]
    }
   ],
   "source": [
    "print(X.shape, y.shape)"
   ]
  },
  {
   "cell_type": "markdown",
   "metadata": {
    "id": "NYUWOxQjVrff"
   },
   "source": [
    "**Highly imbalanced dataset**"
   ]
  },
  {
   "cell_type": "markdown",
   "metadata": {
    "id": "5E0KxbooVtNN"
   },
   "source": [
    "Kita bisa mengecek jumlah Class beserta jumlah data yang belongs to each class dengan .value_counts()"
   ]
  },
  {
   "cell_type": "code",
   "execution_count": 14,
   "metadata": {
    "colab": {
     "base_uri": "https://localhost:8080/"
    },
    "id": "8e0F9a7qVuD-",
    "outputId": "0a3a3607-91c0-45fd-9228-7366fb38f282"
   },
   "outputs": [
    {
     "name": "stdout",
     "output_type": "stream",
     "text": [
      "0    284266\n",
      "1       492\n",
      "Name: Class, dtype: int64\n"
     ]
    }
   ],
   "source": [
    "print(no_null_ds[\"Class\"].value_counts())"
   ]
  },
  {
   "cell_type": "code",
   "execution_count": 15,
   "metadata": {
    "colab": {
     "base_uri": "https://localhost:8080/"
    },
    "id": "mRMdEjJ7Vuur",
    "outputId": "26376f79-4f09-4cc5-fac7-31b9b26a8d2c"
   },
   "outputs": [
    {
     "name": "stdout",
     "output_type": "stream",
     "text": [
      "No fraud class ratio: 99.83%\n",
      "Fraud class ratio: 0.17%\n"
     ]
    }
   ],
   "source": [
    "no_fraud_ratio = round(100 * (no_null_ds[\"Class\"].value_counts()[0]/len(no_null_ds)), 2)\n",
    "fraud_ratio = round(100 * (no_null_ds[\"Class\"].value_counts()[1]/len(no_null_ds)), 2)\n",
    "\n",
    "print(\"No fraud class ratio: {}%\".format(no_fraud_ratio))\n",
    "print(\"Fraud class ratio: {}%\".format(fraud_ratio))"
   ]
  },
  {
   "cell_type": "markdown",
   "metadata": {
    "id": "zrAeM5AQVvlv"
   },
   "source": [
    "Dari hasil code diatas, tampak bahwa dataset ini sangat imbalanced karena jumlah class 1 (492) sangat jauh lebih sedikit dibandingkan class 0 (284266) dengan nilai rasio yang sangat jauh"
   ]
  },
  {
   "cell_type": "code",
   "execution_count": 16,
   "metadata": {
    "colab": {
     "base_uri": "https://localhost:8080/",
     "height": 458
    },
    "id": "iom6DQUBVwZx",
    "outputId": "5ee32146-ac78-4a70-c7e7-52f949bfbb2e"
   },
   "outputs": [
    {
     "data": {
      "image/png": "[encoded data removed]",
      "text/plain": [
       "<Figure size 504x504 with 1 Axes>"
      ]
     },
     "metadata": {
      "needs_background": "light"
     },
     "output_type": "display_data"
    }
   ],
   "source": [
    "# Visualisasi distribusi class 0 dan 1\n",
    "plt.figure(figsize=(7,7))\n",
    "sns.histplot(x='Class', data=no_null_ds)\n",
    "plt.title('Class Distribution')\n",
    "plt.show()"
   ]
  },
  {
   "cell_type": "markdown",
   "metadata": {
    "id": "rBrtKkK7VyC1"
   },
   "source": [
    "Untuk memperbaiki imbalanced dataset, kita dapat melakukan undersampling atau oversampling agar datasetnya menjadi lebih balanced\n",
    "\n",
    "Untuk **undersampling**, menurut saya tidak cocok untuk diterapkan disini karena beberapa hal:\n",
    "\n",
    "1. Jika melakukan undersampling (anggap saja undersampling dengan ratio 2:1), akan terdapat huge loss of information karena kita harus mengurangi jumlah data class 0 dengan sangat banyak (> 200 ribu)\n",
    "\n",
    "2. Dengan melakukan undersampling, jumlah data yang tersisa akan sangat sedikit (mengingat jumlah data class 1 hanya 492 data saja). Hal tersebut sangat tidak cocok untuk **neural network** yang biasanya membutuhkan jumlah data yang banyak"
   ]
  },
  {
   "cell_type": "markdown",
   "metadata": {
    "id": "gjE-yqkuVzjm"
   },
   "source": [
    "**Oversampling** lebih cocok untuk diterapkan dibandingkan undersampling. Namun, setelah saya melakukan eksperimen menggunakan metode SMOTE untuk oversampling, ternyata hasilnya adalah terjadi overfitting dan metrics F1-score, precision, dan recall menurun drastis dibandingkan dengan dataset yang dibiarkan imbalanced\n",
    "\n",
    "Setelah membaca beberapa sumber (sumber utama: https://stats.stackexchange.com/questions/357466/are-unbalanced-datasets-problematic-and-how-does-oversampling-purport-to-he) dan melakukan eksperimen, saya menemukan bahwa model mendapatkan hasil yang lebih baik jika tetap menggunakan dataset seperti semula (yang masih imbalanced)\n",
    "\n",
    "Maka, saya memutuskan untuk tidak melakukan undersampling atau oversampling dan tetap menggunakan dataset original (yang masih imbalanced)"
   ]
  },
  {
   "cell_type": "markdown",
   "metadata": {
    "id": "Rf6t2RVtV0_D"
   },
   "source": [
    "**Outlier detection**"
   ]
  },
  {
   "cell_type": "markdown",
   "metadata": {
    "id": "JnijvoGGV2BP"
   },
   "source": [
    "Visualisasikan terlebih dahulu distribusi untuk setiap feature pada X"
   ]
  },
  {
   "cell_type": "code",
   "execution_count": 17,
   "metadata": {
    "colab": {
     "base_uri": "https://localhost:8080/",
     "height": 513
    },
    "id": "PmnZOxnYV2tQ",
    "outputId": "baad242f-af5b-4d74-fb05-50da8fa39e4b"
   },
   "outputs": [
    {
     "data": {
      "image/png": "[encoded data removed]",
      "text/plain": [
       "<Figure size 864x576 with 10 Axes>"
      ]
     },
     "metadata": {
      "needs_background": "light"
     },
     "output_type": "display_data"
    }
   ],
   "source": [
    "plt.figure(figsize=(12,8))\n",
    "\n",
    "plt.subplot(521)\n",
    "sns.histplot(x='V1', data=no_null_ds)\n",
    "plt.title('V1 Distribution')\n",
    "\n",
    "plt.subplot(522)\n",
    "sns.histplot(x='V2', data=no_null_ds)\n",
    "plt.title('V2 Distribution')\n",
    "\n",
    "plt.subplot(523)\n",
    "sns.histplot(x='V3', data=no_null_ds)\n",
    "plt.title('V3 Distribution')\n",
    "\n",
    "plt.subplot(524)\n",
    "sns.histplot(x='V4', data=no_null_ds)\n",
    "plt.title('V4 Distribution')\n",
    "\n",
    "plt.subplot(525)\n",
    "sns.histplot(x='V5', data=no_null_ds)\n",
    "plt.title('V5 Distribution')\n",
    "\n",
    "plt.subplot(526)\n",
    "sns.histplot(x='V6', data=no_null_ds)\n",
    "plt.title('V6 Distribution')\n",
    "\n",
    "plt.subplot(527)\n",
    "sns.histplot(x='V7', data=no_null_ds)\n",
    "plt.title('V7 Distribution')\n",
    "\n",
    "plt.subplot(528)\n",
    "sns.histplot(x='V8', data=no_null_ds)\n",
    "plt.title('V8 Distribution')\n",
    "\n",
    "plt.subplot(529)\n",
    "sns.histplot(x='V9', data=no_null_ds)\n",
    "plt.title('V9 Distribution')\n",
    "\n",
    "plt.subplot(5,2,10)\n",
    "sns.histplot(x='V10', data=no_null_ds)\n",
    "plt.title('V10 Distribution')\n",
    "\n",
    "plt.show()"
   ]
  },
  {
   "cell_type": "markdown",
   "metadata": {
    "id": "2yFffTrAV4Bv"
   },
   "source": [
    "Menurut saya, hasil visualisasi distribusi diatas mengindikasikan adanya kemungkinan terdapat outliers pada dataset ini, seperti pada V1 dan V4\n",
    "\n",
    "Namun, jika saya melakukan outlier removal, terdapat risiko bahwa data-data yang memiliki ground truth **'Fraud'** juga akan diremove\n",
    "\n",
    "Hal tersebut dapat menimbulkan masalah karena data yang memiliki class **'Fraud'** sudah sangat sedikit, jika di-remove, dataset ini kemungkinan besar akan semakin imbalanced\n",
    "\n",
    "(Saya sudah bereksperimen dan mencoba melakukan outliers removal menggunakan IQR method, dan hasilnya benar seperti penjelasan diatas, data 'Fraud' yang awalnya berjumlah 492 berkurang menjadi < 100\n",
    "\n",
    "Saya menduga bahwa terdapat korelasi yang cukup besar antara data outliers dengan credit card fraud, karena pada kasus credit card fraud, biasanya terjadi hal-hal yang tidak biasa seperti spending yang berlebihan\n",
    "\n",
    "Maka, saya putuskan untuk tidak melakukan outliers removal)"
   ]
  },
  {
   "cell_type": "markdown",
   "metadata": {
    "id": "pPLgrbD4V5ZY"
   },
   "source": [
    "**Normalization Data**"
   ]
  },
  {
   "cell_type": "code",
   "execution_count": 18,
   "metadata": {
    "colab": {
     "base_uri": "https://localhost:8080/"
    },
    "id": "tnrDUM7oV6F7",
    "outputId": "a8c54de8-58ec-41c8-8b31-c3df728bbfbb"
   },
   "outputs": [
    {
     "name": "stdout",
     "output_type": "stream",
     "text": [
      "Mean: -1.7136620687751606e-05\n",
      "Standard deviation: 1.4105822501793879\n",
      "Min: -113.7433067\n",
      "Max: 120.5894939\n"
     ]
    }
   ],
   "source": [
    "print(\"Mean: {}\".format(X.mean()))\n",
    "print(\"Standard deviation: {}\".format(X.std()))\n",
    "print(\"Min: {}\".format(X.min()))\n",
    "print(\"Max: {}\".format(X.max()))"
   ]
  },
  {
   "cell_type": "markdown",
   "metadata": {
    "id": "ThvXtBBUV66Z"
   },
   "source": [
    "Untuk neural networks, akan lebih mudah jika numerical data yang ada pada dataset memiliki mean 0 dan standard deviation 1 (uniform scale)\n",
    "\n",
    "Sedangkan dataset yang sekarang (seperti pada code diatas) belum memenuhi kondisi tersebut\n",
    "\n",
    "Maka, kita perlu melakukan normalization pada data X (z-score normalization)"
   ]
  },
  {
   "cell_type": "code",
   "execution_count": 19,
   "metadata": {
    "id": "7R6hJjA7V7yU"
   },
   "outputs": [],
   "source": [
    "# preprocessing with z-score normalization\n",
    "scaler = StandardScaler()\n",
    "X = scaler.fit_transform(X)"
   ]
  },
  {
   "cell_type": "code",
   "execution_count": 20,
   "metadata": {
    "colab": {
     "base_uri": "https://localhost:8080/"
    },
    "id": "_wmUzplXWBwC",
    "outputId": "93ac440c-c33a-42e7-e7ea-ba9567955fc1"
   },
   "outputs": [
    {
     "name": "stdout",
     "output_type": "stream",
     "text": [
      "Mean: 9.282334392809237e-19\n",
      "Standard deviation: 0.9999999999999996\n",
      "Min: -82.4077116266566\n",
      "Max: 97.47458991988573\n"
     ]
    }
   ],
   "source": [
    "print(\"Mean: {}\".format(X.mean()))\n",
    "print(\"Standard deviation: {}\".format(X.std()))\n",
    "print(\"Min: {}\".format(X.min()))\n",
    "print(\"Max: {}\".format(X.max()))"
   ]
  },
  {
   "cell_type": "markdown",
   "metadata": {
    "id": "0fpdolPoWCs7"
   },
   "source": [
    "Setelah dataset dinormalisasi, kondisi mean dan standar deviation sudah terpenuhi\n",
    "\n",
    "mean = 0.0000000000000000009282334392809237 ≈ 0\n",
    "\n",
    "std = 0.9999999999999996 ≈ 1"
   ]
  },
  {
   "cell_type": "markdown",
   "metadata": {
    "id": "4L3hqJldWEey"
   },
   "source": [
    "**Kesimpulan**\n",
    "\n",
    "Problem pada dataset dan approach saya:\n",
    "\n",
    "1. Missing values pada features: dilakukan proses drop data pada rows yang missing\n",
    "\n",
    "2. Highly imbalanced dataset: Ignored (karena hasilnya jauh lebih baik dibandingkan melakukan oversampling)\n",
    "\n",
    "3. Outliers: Ignored (karena kebanyakan outliers merupakan data yang classnya 1, jika diremove menyebabkan data class 1 hilang sekitar 80%)\n",
    "\n",
    "4. Normalization data: dilakukan z-score normalization"
   ]
  },
  {
   "cell_type": "markdown",
   "metadata": {
    "id": "oktG-XmYWMOz"
   },
   "source": [
    "# **b. Pisahkan dataset menjadi 80 train, 10 val, 10 test**"
   ]
  },
  {
   "cell_type": "markdown",
   "metadata": {
    "id": "j6639oUMWOMS"
   },
   "source": [
    "Untuk memisahkan dataset, kita menggunakan train_test_split()\n",
    "\n",
    "Saya pisahkan dulu dataset menjadi 80% train set dan 20% test set\n",
    "\n",
    "Kemudian, 20% test set tersebut saya bagi 2 untuk validation set sehingga menghasilkan 10% validation set dan 10% test set\n",
    "\n",
    "**Maka, hasil splitting datasetnya adalah:**\n",
    "\n",
    "Train = 100% * 0.8 = 80%\n",
    "\n",
    "Validation = 20% (dari test set) * 0.5 = 10%\n",
    "\n",
    "Test = 100% * 0.2 * 0.5 = 10%\n",
    "\n",
    "-----------------------------------------\n",
    "\n",
    "Jika saya melakukan split train test dengan test size = 0.1, baru kemudian melakukan split train validation dengan test size = 0.1, maka rasio split datasetnya akan menjadi:\n",
    "\n",
    "Train = 100% * 0.9 * 0.9 = 81%\n",
    "\n",
    "Validation = 90% (dari train set) * 0.1 = 9%\n",
    "\n",
    "Test = 100% * 0.1 = 10%\n",
    "\n",
    "Splitting dengan cara ini tidak menghasilkan rasio yang sesuai dengan yang diminta soal"
   ]
  },
  {
   "cell_type": "code",
   "execution_count": 21,
   "metadata": {
    "id": "40qLyVSmWPT6"
   },
   "outputs": [],
   "source": [
    "train_X, remaining_X, train_y, remaining_y = train_test_split(X, y, test_size=0.2)\n",
    "\n",
    "valid_X, test_X, valid_y, test_y = train_test_split(remaining_X, remaining_y, \n",
    "                                                      test_size=0.5)"
   ]
  },
  {
   "cell_type": "markdown",
   "metadata": {
    "id": "egFAk7dcWQmL"
   },
   "source": [
    "Print shape setiap data set dan rasio setiap data set:"
   ]
  },
  {
   "cell_type": "code",
   "execution_count": 22,
   "metadata": {
    "colab": {
     "base_uri": "https://localhost:8080/"
    },
    "id": "5NAWy3o4WROv",
    "outputId": "d41b8290-2a91-4faa-bfba-fda31e82856c"
   },
   "outputs": [
    {
     "name": "stdout",
     "output_type": "stream",
     "text": [
      "(227806,) (28476,) (28476,)\n",
      "Ratio of training set: 80.0%\n",
      "Ratio of validation set: 10.0%\n",
      "Ratio of test set: 10.0%\n"
     ]
    }
   ],
   "source": [
    "print(train_y.shape, valid_y.shape, test_y.shape)\n",
    "\n",
    "training_ratio = round(100 * (train_y.shape[0]/y.shape[0]), 2)\n",
    "validation_ratio = round(100 * (valid_y.shape[0]/y.shape[0]), 2)\n",
    "test_ratio = round(100 * (test_y.shape[0]/y.shape[0]), 2)\n",
    "\n",
    "print(\"Ratio of training set: {}%\".format(training_ratio))\n",
    "print(\"Ratio of validation set: {}%\".format(validation_ratio))\n",
    "print(\"Ratio of test set: {}%\".format(test_ratio))"
   ]
  },
  {
   "cell_type": "markdown",
   "metadata": {
    "id": "3tBvFccIWSO2"
   },
   "source": [
    "Dari hasil code diatas, rasio split dataset sudah benar, yaitu 80-10-10"
   ]
  },
  {
   "cell_type": "markdown",
   "metadata": {
    "id": "1v02uhlbWTLe"
   },
   "source": [
    "Kemudian, kita buat class untuk setiap dataset yang akan merubah data menjadi tensor agar dapat diproses oleh model neural networks menggunakan pytorch"
   ]
  },
  {
   "cell_type": "code",
   "execution_count": 23,
   "metadata": {
    "id": "3iqCEie_WT7t"
   },
   "outputs": [],
   "source": [
    "class FraudDataset(Dataset):\n",
    "  def __init__(self, X, y):\n",
    "    self.X = X\n",
    "    self.y = y\n",
    "\n",
    "  def __getitem__(self, index):\n",
    "    X = torch.Tensor(self.X[index])\n",
    "    y = torch.LongTensor(self.y[index, None])\n",
    "    \n",
    "    return X, y\n",
    "\n",
    "  def __len__(self):\n",
    "    return len(self.X)"
   ]
  },
  {
   "cell_type": "markdown",
   "metadata": {
    "id": "2G4xWak5WU1X"
   },
   "source": [
    "Kemudian, kita gunakan DataLoader dari pytorch untuk menerapkan mini batch learning dengan lebih mudah\n",
    "\n",
    "\n",
    "Dengan DataLoader, kita bisa membuat mini batches dari dataset kita, kemudian melakukan shuffle data pada setiap epoch (untuk mengurangi overfitting), dan menggunakan multiprocessing dari Python untuk mempercepat data retrieval"
   ]
  },
  {
   "cell_type": "markdown",
   "metadata": {
    "id": "Uifis1idWV7V"
   },
   "source": [
    "Untuk kasus ini, saya menggunakan batch_size = 32 karena dari sumber-sumber yang saya baca di internet, banyak yang menunjukkan bahwa batch_size diatas 16 atau 32 tidak memberikan banyak improvement terhadap model sehingga idealnya menggunakan batch size 16 atau 32\n",
    "\n",
    "Karena data pada dataset ini cukup banyak, maka saya mencoba menggunakan batch_size = 32 terlebih dahulu"
   ]
  },
  {
   "cell_type": "code",
   "execution_count": 24,
   "metadata": {
    "id": "JeaoP65ZWWpR"
   },
   "outputs": [],
   "source": [
    "train_ds = FraudDataset(train_X, train_y)\n",
    "train_loader = DataLoader(train_ds, batch_size=32, \n",
    "                             shuffle=True, num_workers=0)\n",
    "# Shuffle data hanya untuk data training saja\n",
    "\n",
    "valid_ds = FraudDataset(valid_X, valid_y)\n",
    "valid_loader = DataLoader(valid_ds, batch_size=32, \n",
    "                             shuffle=False, num_workers=0)\n",
    "\n",
    "test_ds = FraudDataset(test_X, test_y)\n",
    "test_loader = DataLoader(test_ds, batch_size=32, \n",
    "                            shuffle=False, num_workers=0)"
   ]
  },
  {
   "cell_type": "markdown",
   "metadata": {
    "id": "Fx4F5Qv8WXmz"
   },
   "source": [
    "# **c. Buat arsitektur Baseline**"
   ]
  },
  {
   "cell_type": "markdown",
   "metadata": {
    "id": "V1LnvJEJWYZ4"
   },
   "source": [
    "Arsitektur baseline memiliki 4 layer (1 input layer, 2 hidden layer, 1 output layer)\n",
    "\n",
    "Pada method init, terdapat 3 fc yang mendefinisikan keempat layer pada arsitektur, terutama untuk jumlah neuron/nodenya\n",
    "\n",
    "Kemudian pada method forward, didefinisikan urutan jalannya arsitektur model"
   ]
  },
  {
   "cell_type": "code",
   "execution_count": 25,
   "metadata": {
    "id": "mekF0042WZHS"
   },
   "outputs": [],
   "source": [
    "n_nodes = 10\n",
    "num_class = 2\n",
    "\n",
    "class Baseline(nn.Module):\n",
    "    def __init__(self):\n",
    "        super(Baseline, self).__init__()\n",
    "        # hubungan antara input layer dan hidden layer 1\n",
    "        self.fc1 = nn.Linear(n_nodes, n_nodes*2)\n",
    "        # hubungan antara hidden layer 1 dan hidden layer 2\n",
    "        self.fc2 = nn.Linear(n_nodes*2, n_nodes*2)\n",
    "        # hubungan antara hidden layer 2 dan output layer\n",
    "        self.fc3 = nn.Linear(n_nodes*2, num_class)\n",
    "\n",
    "    def forward(self, X):\n",
    "        # Setelah setiap layer, gunakan activation function ReLU\n",
    "        X = self.fc1(X)\n",
    "        X = F.relu(X)\n",
    "        X = self.fc2(X)\n",
    "        X = F.relu(X)\n",
    "        X = self.fc3(X)\n",
    "\n",
    "        return X"
   ]
  },
  {
   "cell_type": "markdown",
   "metadata": {
    "id": "0R4PEkCXWaJp"
   },
   "source": [
    "Kemudian, instantiate modelnya kemudian pilih loss function dan optimizer\n",
    "\n",
    "Karena loss function dan optimizer tidak ditentukan oleh soal, maka saya akan mencoba menggunakan:\n",
    "\n",
    "1. Loss Function Cross Entropy, karena cross entropy cocok digunakan untuk kasus classification seperti pada soal nomor 1\n",
    "\n",
    "2. Optimizer SGD (Stochastic gradient descent), terdapat sumber dari internet yang mengatakan bahwa SGD lebih cocok dibandingkan Adam untuk neural networks yang shallow. Untuk percobaan pertama (baseline), saya akan mencoba SGD terlebih dahulu"
   ]
  },
  {
   "cell_type": "code",
   "execution_count": 26,
   "metadata": {
    "id": "uTzYtRNGWa8V"
   },
   "outputs": [],
   "source": [
    "baseline_lr = 0.01\n",
    "\n",
    "# Instantiate baseline model\n",
    "baseline_model = Baseline()\n",
    "\n",
    "# Loss function CEL\n",
    "criterion = nn.CrossEntropyLoss()\n",
    "\n",
    "# Optimizer SGD dengan learning rate 0.01\n",
    "optimizer = torch.optim.SGD(baseline_model.parameters(), lr=baseline_lr)"
   ]
  },
  {
   "cell_type": "markdown",
   "metadata": {
    "id": "pcDDefdCWb8s"
   },
   "source": [
    "**Training baseline model**"
   ]
  },
  {
   "cell_type": "markdown",
   "metadata": {
    "id": "5Qs5ByPQWct9"
   },
   "source": [
    "Langkah selanjutnya adalah melakukan training model BPNN\n",
    "\n",
    "Untuk jumlah epochs, terdapat papers yang menyarankan untuk mencoba jumlah epoch 3 kali lipat dari jumlah features terlebih dahulu\n",
    "\n",
    "Maka, saya akan menggunakan 30 epochs"
   ]
  },
  {
   "cell_type": "code",
   "execution_count": 27,
   "metadata": {
    "colab": {
     "base_uri": "https://localhost:8080/"
    },
    "id": "WycWyKfRWdbm",
    "outputId": "f29bb303-62f9-4d8b-99df-47221009ba25"
   },
   "outputs": [
    {
     "name": "stdout",
     "output_type": "stream",
     "text": [
      "=========================================================\n",
      "Epoch 0\n",
      "training loss: 0.03025165\n",
      "validation loss: 0.00695542\n",
      "=========================================================\n",
      "Epoch 1\n",
      "training loss: 0.00594182\n",
      "validation loss: 0.00532457\n",
      "=========================================================\n",
      "Epoch 2\n",
      "training loss: 0.00498305\n",
      "validation loss: 0.00488467\n",
      "=========================================================\n",
      "Epoch 3\n",
      "training loss: 0.00453427\n",
      "validation loss: 0.00469330\n",
      "=========================================================\n",
      "Epoch 4\n",
      "training loss: 0.00425450\n",
      "validation loss: 0.00457995\n",
      "=========================================================\n",
      "Epoch 5\n",
      "training loss: 0.00406238\n",
      "validation loss: 0.00450487\n",
      "=========================================================\n",
      "Epoch 6\n",
      "training loss: 0.00391294\n",
      "validation loss: 0.00445732\n",
      "=========================================================\n",
      "Epoch 7\n",
      "training loss: 0.00381359\n",
      "validation loss: 0.00442991\n",
      "=========================================================\n",
      "Epoch 8\n",
      "training loss: 0.00374945\n",
      "validation loss: 0.00442527\n",
      "=========================================================\n",
      "Epoch 9\n",
      "training loss: 0.00370407\n",
      "validation loss: 0.00438328\n",
      "=========================================================\n",
      "Epoch 10\n",
      "training loss: 0.00366190\n",
      "validation loss: 0.00437018\n",
      "=========================================================\n",
      "Epoch 11\n",
      "training loss: 0.00362267\n",
      "validation loss: 0.00434976\n",
      "=========================================================\n",
      "Epoch 12\n",
      "training loss: 0.00359204\n",
      "validation loss: 0.00435395\n",
      "=========================================================\n",
      "Epoch 13\n",
      "training loss: 0.00357185\n",
      "validation loss: 0.00445589\n",
      "=========================================================\n",
      "Epoch 14\n",
      "training loss: 0.00353691\n",
      "validation loss: 0.00430731\n",
      "=========================================================\n",
      "Epoch 15\n",
      "training loss: 0.00352584\n",
      "validation loss: 0.00431390\n",
      "=========================================================\n",
      "Epoch 16\n",
      "training loss: 0.00350418\n",
      "validation loss: 0.00430991\n",
      "=========================================================\n",
      "Epoch 17\n",
      "training loss: 0.00347904\n",
      "validation loss: 0.00428772\n",
      "=========================================================\n",
      "Epoch 18\n",
      "training loss: 0.00343676\n",
      "validation loss: 0.00430869\n",
      "=========================================================\n",
      "Epoch 19\n",
      "training loss: 0.00343273\n",
      "validation loss: 0.00429553\n",
      "=========================================================\n",
      "Epoch 20\n",
      "training loss: 0.00342322\n",
      "validation loss: 0.00428799\n",
      "=========================================================\n",
      "Epoch 21\n",
      "training loss: 0.00340169\n",
      "validation loss: 0.00432263\n",
      "=========================================================\n",
      "Epoch 22\n",
      "training loss: 0.00338076\n",
      "validation loss: 0.00428095\n",
      "=========================================================\n",
      "Epoch 23\n",
      "training loss: 0.00336882\n",
      "validation loss: 0.00431952\n",
      "=========================================================\n",
      "Epoch 24\n",
      "training loss: 0.00334882\n",
      "validation loss: 0.00429808\n",
      "=========================================================\n",
      "Epoch 25\n",
      "training loss: 0.00333411\n",
      "validation loss: 0.00430933\n",
      "=========================================================\n",
      "Epoch 26\n",
      "training loss: 0.00331900\n",
      "validation loss: 0.00429658\n",
      "=========================================================\n",
      "Epoch 27\n",
      "training loss: 0.00330755\n",
      "validation loss: 0.00431139\n",
      "=========================================================\n",
      "Epoch 28\n",
      "training loss: 0.00328790\n",
      "validation loss: 0.00432113\n",
      "=========================================================\n",
      "Epoch 29\n",
      "training loss: 0.00327377\n",
      "validation loss: 0.00434291\n"
     ]
    }
   ],
   "source": [
    "epochs = 30\n",
    " \n",
    "train_mean_losses = [] #simpan mean losses training\n",
    "valid_mean_losses = [] #simpan mean losses validation\n",
    "\n",
    "valid_best_loss = np.inf # Untuk menyimpan best loss dari validation\n",
    "\n",
    "for i in range(epochs):  \n",
    "    #===============================================================\n",
    "    # training\n",
    "    train_losses = []\n",
    "    \n",
    "    print(\"=========================================================\")\n",
    "    print(\"Epoch {}\".format(i))\n",
    "    \n",
    "    for iter, batch_data in enumerate(train_loader):\n",
    "        X_batch, y_batch = batch_data\n",
    "        \n",
    "        # Set gradient menjadi 0 sebelum melakukan backpropagation\n",
    "        optimizer.zero_grad()\n",
    "        \n",
    "        out = baseline_model(X_batch)\n",
    "        loss = criterion(out, y_batch.squeeze())\n",
    "        \n",
    "        # Lakukan backpropagation\n",
    "        loss.backward()\n",
    "        optimizer.step()\n",
    "        \n",
    "        train_losses.append(loss)\n",
    "    \n",
    "    train_mean_loss = torch.mean(torch.stack(train_losses))\n",
    "    print('training loss: {:10.8f}'.format(train_mean_loss))\n",
    "    \n",
    "    train_mean_losses.append(train_mean_loss)\n",
    "    \n",
    "    #===============================================================\n",
    "    # validation\n",
    "    valid_losses = []\n",
    "    with torch.set_grad_enabled(False):\n",
    "        for iter, batch_data in enumerate(valid_loader):\n",
    "            X_batch, y_batch = batch_data\n",
    "\n",
    "            out = baseline_model(X_batch)\n",
    "            loss = criterion(out, y_batch.squeeze())\n",
    "            valid_losses.append(loss)\n",
    "            \n",
    "        valid_mean_loss = torch.mean(torch.stack(valid_losses))\n",
    "        print('validation loss: {:10.8f}'.format(valid_mean_loss))\n",
    "        \n",
    "        valid_mean_losses.append(valid_mean_loss)\n",
    "        \n",
    "        # Jika epoch ini menghasilkan validation loss paling kecil,..\n",
    "        #.. maka simpan sebagai best model yang akan digunakan\n",
    "        if valid_mean_loss.cpu().numpy()[()] < valid_best_loss:\n",
    "            valid_best_loss = valid_mean_loss\n",
    "            torch.save(baseline_model.state_dict(), \"best_model.pth\")\n",
    "            best_epoch = i\n",
    "    #===============================================================\n",
    "            "
   ]
  },
  {
   "cell_type": "markdown",
   "metadata": {
    "id": "BxdvOae85Nm6"
   },
   "source": [
    "**Visualisasikan train dan validation loss yang didapat**"
   ]
  },
  {
   "cell_type": "code",
   "execution_count": 28,
   "metadata": {
    "colab": {
     "base_uri": "https://localhost:8080/",
     "height": 295
    },
    "id": "6QrZ9G3KcRHl",
    "outputId": "1fa5c52b-4b92-4905-d7c5-87f99bcb5373"
   },
   "outputs": [
    {
     "data": {
      "image/png": "[encoded data removed]",
      "text/plain": [
       "<Figure size 432x288 with 1 Axes>"
      ]
     },
     "metadata": {
      "needs_background": "light"
     },
     "output_type": "display_data"
    }
   ],
   "source": [
    "baseline_valid_best_loss = valid_best_loss\n",
    "\n",
    "with torch.no_grad():\n",
    "  plt.plot(range(1, epochs+1), train_mean_losses)\n",
    "  plt.plot(range(1, epochs+1), valid_mean_losses)\n",
    "  plt.title('Train and Validation Loss Plot')\n",
    "  plt.xlabel('epochs')\n",
    "  plt.ylabel('loss')\n",
    "\n",
    "  plt.show()"
   ]
  },
  {
   "cell_type": "markdown",
   "metadata": {
    "id": "NERMCHDn5alv"
   },
   "source": [
    "Dari hasil training (dan validating) dan visualisasi, terlihat bahwa perbedaan loss bisa dikatakan cukup kecil sehingga model baseline sudah menunjukkan performa yang cukup baik (tanpa overfitting)\n",
    "\n",
    "Namun, jika dilihat dari visualisasi plot diatas, tampaknya validation loss mulai mengalami kenaikan value ketika mendekati epochs ke-30. Berarti, nilai epochs atau learning rate harus di-tuning agar grafik garis validation lossnya lebih baik (semakin lama nilai validation loss semakin menurun). \n",
    "\n",
    "Hal ini biasanya bisa terjadi karena learning rate yang terlalu besar"
   ]
  },
  {
   "cell_type": "markdown",
   "metadata": {
    "id": "t5L5WrSB6NwM"
   },
   "source": [
    "Menyimpan best model:"
   ]
  },
  {
   "cell_type": "code",
   "execution_count": 29,
   "metadata": {
    "colab": {
     "base_uri": "https://localhost:8080/"
    },
    "id": "jErxPfvLcr2k",
    "outputId": "cc3afcdd-c14e-484a-8563-42677da16786"
   },
   "outputs": [
    {
     "data": {
      "text/plain": [
       "<All keys matched successfully>"
      ]
     },
     "execution_count": 29,
     "metadata": {},
     "output_type": "execute_result"
    }
   ],
   "source": [
    "baseline_model.load_state_dict(torch.load(\"best_model.pth\"))"
   ]
  },
  {
   "cell_type": "markdown",
   "metadata": {
    "id": "RlIPL7Hr6P-U"
   },
   "source": [
    "**Melakukan evaluasi beberapa metrics terhadap model baseline**"
   ]
  },
  {
   "cell_type": "markdown",
   "metadata": {
    "id": "9kTxxy17_P4o"
   },
   "source": [
    "Kita analisis performa model baseline terhadap test set:"
   ]
  },
  {
   "cell_type": "code",
   "execution_count": 30,
   "metadata": {
    "id": "YsX3IPShcttE"
   },
   "outputs": [],
   "source": [
    "test_predictions = np.empty((0,2)) # Menyimpan hasil prediksi\n",
    "\n",
    "with torch.no_grad():\n",
    "    # Iterasi test set\n",
    "    for iter, batch_data in enumerate(test_loader):\n",
    "        X_batch, y_batch = batch_data        \n",
    "        out = baseline_model(X_batch)\n",
    "        \n",
    "        test_predictions = np.append(test_predictions, out.numpy(), \n",
    "                                     axis=0)\n",
    "\n",
    "# Ubah test_predictions agar menjadi kumpulan nilai class hasil prediksinya (0 atau 1)\n",
    "test_predictions = np.array(test_predictions)\n",
    "test_predictions = np.argmax(np.array(test_predictions), axis=1)"
   ]
  },
  {
   "cell_type": "markdown",
   "metadata": {
    "id": "4Z3NjFC9AQCq"
   },
   "source": [
    "Selanjutnya, kita print hasil dari performa model baseline ini:"
   ]
  },
  {
   "cell_type": "code",
   "execution_count": 31,
   "metadata": {
    "colab": {
     "base_uri": "https://localhost:8080/"
    },
    "id": "YnUKRNCL_Oud",
    "outputId": "9a0cedfc-4825-40cf-a193-fbb2c52c052b"
   },
   "outputs": [
    {
     "name": "stdout",
     "output_type": "stream",
     "text": [
      "=========================================================\n",
      "\n",
      "Predicted Class:\n",
      "[0 0 0 ... 0 0 0]\n",
      "\n",
      "Ground Truth:\n",
      "[0 0 0 ... 0 0 0]\n",
      "\n",
      "=========================================================\n",
      "\n",
      "Confusion Matrix:\n",
      "[[28425     2]\n",
      " [   18    31]]\n",
      "\n",
      "=========================================================\n",
      "\n",
      "Accuracy: 0.9992976541649108\n",
      "F1 Score:  0.8778729408535513\n",
      "\n",
      "=========================================================\n",
      "\n",
      "Classification Report:\n",
      "              precision    recall  f1-score   support\n",
      "\n",
      "           0       1.00      1.00      1.00     28427\n",
      "           1       0.94      0.63      0.76        49\n",
      "\n",
      "    accuracy                           1.00     28476\n",
      "   macro avg       0.97      0.82      0.88     28476\n",
      "weighted avg       1.00      1.00      1.00     28476\n",
      "\n"
     ]
    }
   ],
   "source": [
    "print(\"=========================================================\\n\")\n",
    "print(\"Predicted Class:\")\n",
    "print(test_predictions)\n",
    "print(\"\\nGround Truth:\")\n",
    "print(test_y)\n",
    "\n",
    "print(\"\\n=========================================================\\n\")\n",
    "print(\"Confusion Matrix:\")\n",
    "print(confusion_matrix(test_y, test_predictions))\n",
    "\n",
    "print(\"\\n=========================================================\\n\")\n",
    "baseline_accuracy = accuracy_score(test_y, test_predictions)\n",
    "print(\"Accuracy: {}\".format(baseline_accuracy))\n",
    "\n",
    "baseline_f1 = f1_score(test_y, test_predictions, average='macro')\n",
    "print(\"F1 Score: \", baseline_f1)\n",
    "\n",
    "print(\"\\n=========================================================\\n\")\n",
    "print(\"Classification Report:\")\n",
    "print(classification_report(test_y, test_predictions))"
   ]
  },
  {
   "cell_type": "markdown",
   "metadata": {
    "id": "B8i2bvJHAYJc"
   },
   "source": [
    "# **d. Perbaiki arsitektur model baseline**"
   ]
  },
  {
   "cell_type": "markdown",
   "metadata": {
    "id": "2FiZytqkAddR"
   },
   "source": [
    "Hal pertama yang akan saya ubah dari model baseline adalah jumlah neuron/node pada masing-masing hidden layer. Dari sumber yang saya baca, terdapat beberapa rule yang dapat digunakan untuk menentukan jumlah neuron yang lebih tepat pada setiap hidden layer. Berikut saya kutip:\n",
    "\n",
    "\"*There are many rule-of-thumb methods for determining the correct number of neurons to use in the hidden layers, such as the following:*\n",
    "\n",
    "*   *The number of hidden neurons should be between the size of the input layer and the size of the output layer.*\n",
    "*   *The number of hidden neurons should be 2/3 the size of the input layer, plus the size of the output layer.*\n",
    "*   *The number of hidden neurons should be less than twice the size of the input layer.*\"\n",
    "\n",
    "Jumlah neuron yang tepat berdasarkan aturan pertama: antara 2 dan 10\n",
    "\n",
    "Jumlah neuron yang tepat berdasarkan aturan kedua: 7 + 2 = 9\n",
    "\n",
    "Jumlah neuron yang tepat berdasarkan aturan ketiga: lebih kecil dari 20"
   ]
  },
  {
   "cell_type": "markdown",
   "metadata": {
    "id": "KPzpfgw_BwFW"
   },
   "source": [
    "Berdasarkan hasil eksperimen yang saya lakukan, saya menemukan bahwa jumlah neuron = 5 menghasilkan performa yang terbaik (Saya juga telah mencoba jumlah neuron = 3, 7, 9, dan 19)\n",
    "\n",
    "**Maka, untuk model hasil tuning, saya menggunakan 5 neuron pada setiap hidden layernya**"
   ]
  },
  {
   "cell_type": "markdown",
   "metadata": {
    "id": "asQDnEeSCIPv"
   },
   "source": [
    "Berikut adalah class model dengan perubahan jumlah neuron:"
   ]
  },
  {
   "cell_type": "code",
   "execution_count": 32,
   "metadata": {
    "id": "RcUhQk1ucySZ"
   },
   "outputs": [],
   "source": [
    "new_hidden_neuron = 5\n",
    "\n",
    "class Modified(nn.Module):\n",
    "    def __init__(self):\n",
    "        super(Modified, self).__init__()\n",
    "        self.fc1 = nn.Linear(n_nodes, new_hidden_neuron)\n",
    "        self.fc2 = nn.Linear(new_hidden_neuron, new_hidden_neuron)\n",
    "        self.fc3 = nn.Linear(new_hidden_neuron, num_class)\n",
    "\n",
    "    def forward(self, X):\n",
    "        X = self.fc1(X)\n",
    "        X = F.relu(X)\n",
    "        X = self.fc2(X)\n",
    "        X = F.relu(X)\n",
    "        X = self.fc3(X)\n",
    "\n",
    "        return X"
   ]
  },
  {
   "cell_type": "markdown",
   "metadata": {
    "id": "vuoPmzZJCeIw"
   },
   "source": [
    "Untuk activation function pada last layer, lebih cocok menggunakan activation function dengan tipe softmax (untuk classification)\n",
    "\n",
    "Namun, pada loss function CrossEntropy, terdapat proses-proses yang sudah menerapkan proses softmax tersebut sehingga tidak perlu dinyatakan secara eksplisit lagi pada code function forward()"
   ]
  },
  {
   "cell_type": "markdown",
   "metadata": {
    "id": "GRwKuOFhDdv6"
   },
   "source": [
    "\n",
    "\n",
    "---\n",
    "Kemudian, seperti yang terlihat pada visualisasi train dan validation loss untuk model baseline, learning rate yang digunakan tampaknya terlalu besar\n",
    "\n",
    "Maka, untuk **learning rate pada model modified ini saya perkecil menjadi 0.005** (Saya telah mencoba berbagai learning rate seperti 0.001, 0.0001, 0.003, 0.1, 0.05, 0.01, dan 0.0005, tetapi learning rate = 0.005 menghasilkan performa yang paling baik)\n"
   ]
  },
  {
   "cell_type": "code",
   "execution_count": 149,
   "metadata": {
    "id": "Qij8TpYfczQh"
   },
   "outputs": [],
   "source": [
    "modified_lr = 0.005\n",
    "\n",
    "# Instantiate modified model\n",
    "modified_model = Modified()\n",
    "\n",
    "# Loss function CEL\n",
    "criterion = nn.CrossEntropyLoss()\n",
    "\n",
    "# Optimizer SGD dengan learning rate 0.005\n",
    "optimizer = torch.optim.SGD(modified_model.parameters(), lr=modified_lr)"
   ]
  },
  {
   "cell_type": "markdown",
   "metadata": {
    "id": "4trtiemTETr9"
   },
   "source": [
    "**Training modified model**"
   ]
  },
  {
   "cell_type": "markdown",
   "metadata": {
    "id": "GHVZaV2mEWpQ"
   },
   "source": [
    "Code yang saya gunakan untuk proses training dan validation modified model sama persis dengan code untuk baseline model (termasuk jumlah epochsnya)"
   ]
  },
  {
   "cell_type": "code",
   "execution_count": 150,
   "metadata": {
    "colab": {
     "base_uri": "https://localhost:8080/"
    },
    "id": "P0Bhvhdsc0Az",
    "outputId": "1d3f777d-a8cc-49a8-891e-40b7def15d3c"
   },
   "outputs": [
    {
     "name": "stdout",
     "output_type": "stream",
     "text": [
      "=========================================================\n",
      "Epoch 0\n",
      "training loss: 0.02813078\n",
      "validation loss: 0.00915222\n",
      "=========================================================\n",
      "Epoch 1\n",
      "training loss: 0.00754281\n",
      "validation loss: 0.00719676\n",
      "=========================================================\n",
      "Epoch 2\n",
      "training loss: 0.00616469\n",
      "validation loss: 0.00636039\n",
      "=========================================================\n",
      "Epoch 3\n",
      "training loss: 0.00541861\n",
      "validation loss: 0.00578165\n",
      "=========================================================\n",
      "Epoch 4\n",
      "training loss: 0.00489841\n",
      "validation loss: 0.00527931\n",
      "=========================================================\n",
      "Epoch 5\n",
      "training loss: 0.00449109\n",
      "validation loss: 0.00488161\n",
      "=========================================================\n",
      "Epoch 6\n",
      "training loss: 0.00417714\n",
      "validation loss: 0.00458748\n",
      "=========================================================\n",
      "Epoch 7\n",
      "training loss: 0.00396655\n",
      "validation loss: 0.00438123\n",
      "=========================================================\n",
      "Epoch 8\n",
      "training loss: 0.00383636\n",
      "validation loss: 0.00428926\n",
      "=========================================================\n",
      "Epoch 9\n",
      "training loss: 0.00374106\n",
      "validation loss: 0.00418810\n",
      "=========================================================\n",
      "Epoch 10\n",
      "training loss: 0.00369933\n",
      "validation loss: 0.00416944\n",
      "=========================================================\n",
      "Epoch 11\n",
      "training loss: 0.00365189\n",
      "validation loss: 0.00415245\n",
      "=========================================================\n",
      "Epoch 12\n",
      "training loss: 0.00361596\n",
      "validation loss: 0.00412002\n",
      "=========================================================\n",
      "Epoch 13\n",
      "training loss: 0.00358539\n",
      "validation loss: 0.00411568\n",
      "=========================================================\n",
      "Epoch 14\n",
      "training loss: 0.00356321\n",
      "validation loss: 0.00410347\n",
      "=========================================================\n",
      "Epoch 15\n",
      "training loss: 0.00354020\n",
      "validation loss: 0.00409042\n",
      "=========================================================\n",
      "Epoch 16\n",
      "training loss: 0.00352129\n",
      "validation loss: 0.00413599\n",
      "=========================================================\n",
      "Epoch 17\n",
      "training loss: 0.00349813\n",
      "validation loss: 0.00407571\n",
      "=========================================================\n",
      "Epoch 18\n",
      "training loss: 0.00348035\n",
      "validation loss: 0.00407610\n",
      "=========================================================\n",
      "Epoch 19\n",
      "training loss: 0.00346922\n",
      "validation loss: 0.00407911\n",
      "=========================================================\n",
      "Epoch 20\n",
      "training loss: 0.00345501\n",
      "validation loss: 0.00411937\n",
      "=========================================================\n",
      "Epoch 21\n",
      "training loss: 0.00343534\n",
      "validation loss: 0.00407559\n",
      "=========================================================\n",
      "Epoch 22\n",
      "training loss: 0.00342896\n",
      "validation loss: 0.00410572\n",
      "=========================================================\n",
      "Epoch 23\n",
      "training loss: 0.00341754\n",
      "validation loss: 0.00408008\n",
      "=========================================================\n",
      "Epoch 24\n",
      "training loss: 0.00340584\n",
      "validation loss: 0.00409686\n",
      "=========================================================\n",
      "Epoch 25\n",
      "training loss: 0.00339633\n",
      "validation loss: 0.00407234\n",
      "=========================================================\n",
      "Epoch 26\n",
      "training loss: 0.00339115\n",
      "validation loss: 0.00405908\n",
      "=========================================================\n",
      "Epoch 27\n",
      "training loss: 0.00337935\n",
      "validation loss: 0.00404947\n",
      "=========================================================\n",
      "Epoch 28\n",
      "training loss: 0.00337309\n",
      "validation loss: 0.00406395\n",
      "=========================================================\n",
      "Epoch 29\n",
      "training loss: 0.00336361\n",
      "validation loss: 0.00405652\n"
     ]
    }
   ],
   "source": [
    "train_mean_losses = [] #simpan mean losses training\n",
    "valid_mean_losses = [] #simpan mean losses validation\n",
    "\n",
    "valid_best_loss = np.inf # Untuk menyimpan best loss dari validation\n",
    "\n",
    "for i in range(epochs):  \n",
    "    #===============================================================\n",
    "    # training\n",
    "    train_losses = []\n",
    "    \n",
    "    print(\"=========================================================\")\n",
    "    print(\"Epoch {}\".format(i))\n",
    "    \n",
    "    for iter, batch_data in enumerate(train_loader):\n",
    "        X_batch, y_batch = batch_data\n",
    "        \n",
    "        # Set gradient menjadi 0 sebelum melakukan backpropagation\n",
    "        optimizer.zero_grad()\n",
    "        \n",
    "        out = modified_model(X_batch)\n",
    "        loss = criterion(out, y_batch.squeeze())\n",
    "        \n",
    "        # Lakukan backpropagation\n",
    "        loss.backward()\n",
    "        optimizer.step()\n",
    "        \n",
    "        train_losses.append(loss)\n",
    "    \n",
    "    train_mean_loss = torch.mean(torch.stack(train_losses))\n",
    "    print('training loss: {:10.8f}'.format(train_mean_loss))\n",
    "    \n",
    "    train_mean_losses.append(train_mean_loss)\n",
    "    \n",
    "    #===============================================================\n",
    "    # validation\n",
    "    valid_losses = []\n",
    "    with torch.set_grad_enabled(False):\n",
    "        for iter, batch_data in enumerate(valid_loader):\n",
    "            X_batch, y_batch = batch_data\n",
    "\n",
    "            out = modified_model(X_batch)\n",
    "            loss = criterion(out, y_batch.squeeze())\n",
    "            valid_losses.append(loss)\n",
    "            \n",
    "        valid_mean_loss = torch.mean(torch.stack(valid_losses))\n",
    "        print('validation loss: {:10.8f}'.format(valid_mean_loss))\n",
    "        \n",
    "        valid_mean_losses.append(valid_mean_loss)\n",
    "        \n",
    "        # Jika epoch ini menghasilkan validation loss paling kecil,..\n",
    "        #.. maka simpan sebagai best model yang akan digunakan\n",
    "        if valid_mean_loss.cpu().numpy()[()] < valid_best_loss:\n",
    "            valid_best_loss = valid_mean_loss\n",
    "            torch.save(modified_model.state_dict(), \"best_model.pth\")\n",
    "            best_epoch = i\n",
    "    #===============================================================\n",
    "            "
   ]
  },
  {
   "cell_type": "markdown",
   "metadata": {
    "id": "wUEdswl_FIjF"
   },
   "source": [
    "**Visualisasikan train dan validation loss yang didapat**"
   ]
  },
  {
   "cell_type": "code",
   "execution_count": 151,
   "metadata": {
    "colab": {
     "base_uri": "https://localhost:8080/",
     "height": 295
    },
    "id": "3-Agvozec1VZ",
    "outputId": "f54611bd-80a5-450f-dde9-c91b5693eea4"
   },
   "outputs": [
    {
     "data": {
      "image/png": "[encoded data removed]",
      "text/plain": [
       "<Figure size 432x288 with 1 Axes>"
      ]
     },
     "metadata": {
      "needs_background": "light"
     },
     "output_type": "display_data"
    }
   ],
   "source": [
    "modified_valid_best_loss = valid_best_loss\n",
    "\n",
    "with torch.no_grad():\n",
    "  plt.plot(range(1,epochs+1), train_mean_losses)\n",
    "  plt.plot(range(1,epochs+1), valid_mean_losses)\n",
    "  plt.xlabel('epochs')\n",
    "  plt.ylabel('loss')\n",
    "  plt.title('Train and Validation Loss Plot')\n",
    "  plt.show()"
   ]
  },
  {
   "cell_type": "markdown",
   "metadata": {
    "id": "Gy38T2y9FNvq"
   },
   "source": [
    "Dari hasil visualisasi diatas, tampak bahwa grafik garis validation loss sudah menunjukkan shape yang lebih baik (cenderung menurun ketika epochsnya semakin banyak)\n",
    "\n",
    "Walaupun tampak meningkat sedikit ketika mendekati epochs 30, tetapi peningkatannya lebih sedikit dibandingkan baseline\n",
    "\n",
    "Perbedaan training dan validation lossnya juga lebih dekat"
   ]
  },
  {
   "cell_type": "markdown",
   "metadata": {
    "id": "zX9n1TwAGXA0"
   },
   "source": [
    "Menyimpan best model:"
   ]
  },
  {
   "cell_type": "code",
   "execution_count": 152,
   "metadata": {
    "colab": {
     "base_uri": "https://localhost:8080/"
    },
    "id": "96iuG6fbGYU9",
    "outputId": "58952bd2-1ef3-4bb9-bf8b-28a56baebfff"
   },
   "outputs": [
    {
     "data": {
      "text/plain": [
       "<All keys matched successfully>"
      ]
     },
     "execution_count": 152,
     "metadata": {},
     "output_type": "execute_result"
    }
   ],
   "source": [
    "modified_model.load_state_dict(torch.load(\"best_model.pth\"))"
   ]
  },
  {
   "cell_type": "markdown",
   "metadata": {
    "id": "IU5GlWsYGOtp"
   },
   "source": [
    "# **e. Analisis performa dari test set dengan mencari nilai accuracy, precision, recall dan F1-Score**"
   ]
  },
  {
   "cell_type": "code",
   "execution_count": 153,
   "metadata": {
    "id": "yQ-6bDCcc2V3"
   },
   "outputs": [],
   "source": [
    "test_predictions = np.empty((0,2)) # Menyimpan hasil prediksi\n",
    "\n",
    "with torch.no_grad():\n",
    "    # Iterasi test set\n",
    "    for iter, batch_data in enumerate(test_loader):\n",
    "        X_batch, y_batch = batch_data        \n",
    "        out = modified_model(X_batch)\n",
    "        \n",
    "        test_predictions = np.append(test_predictions, out.numpy(), \n",
    "                                     axis=0)\n",
    "\n",
    "# Ubah test_predictions agar menjadi kumpulan nilai class hasil prediksinya (0 atau 1)\n",
    "test_predictions = np.array(test_predictions)\n",
    "test_predictions = np.argmax(np.array(test_predictions), axis=1)"
   ]
  },
  {
   "cell_type": "markdown",
   "metadata": {
    "id": "xOBnQY08Gy9P"
   },
   "source": [
    "Print hasil evaluasi performa terhadap test set:"
   ]
  },
  {
   "cell_type": "code",
   "execution_count": 154,
   "metadata": {
    "colab": {
     "base_uri": "https://localhost:8080/"
    },
    "id": "IS9Pi5QoGxCR",
    "outputId": "ee33943f-4ea4-49ca-f0e6-5e5248c51197"
   },
   "outputs": [
    {
     "name": "stdout",
     "output_type": "stream",
     "text": [
      "=========================================================\n",
      "\n",
      "Predicted Class:\n",
      "[0 0 0 ... 0 0 0]\n",
      "\n",
      "Ground Truth:\n",
      "[0 0 0 ... 0 0 0]\n",
      "\n",
      "=========================================================\n",
      "\n",
      "Confusion Matrix:\n",
      "[[28422     5]\n",
      " [    9    40]]\n",
      "\n",
      "=========================================================\n",
      "\n",
      "Accuracy: 0.9995083579154376\n",
      "F1 Score:  0.9254088011717134\n",
      "\n",
      "=========================================================\n",
      "\n",
      "Classification Report:\n",
      "              precision    recall  f1-score   support\n",
      "\n",
      "           0       1.00      1.00      1.00     28427\n",
      "           1       0.89      0.82      0.85        49\n",
      "\n",
      "    accuracy                           1.00     28476\n",
      "   macro avg       0.94      0.91      0.93     28476\n",
      "weighted avg       1.00      1.00      1.00     28476\n",
      "\n"
     ]
    }
   ],
   "source": [
    "print(\"=========================================================\\n\")\n",
    "print(\"Predicted Class:\")\n",
    "print(test_predictions)\n",
    "print(\"\\nGround Truth:\")\n",
    "print(test_y)\n",
    "\n",
    "print(\"\\n=========================================================\\n\")\n",
    "print(\"Confusion Matrix:\")\n",
    "print(confusion_matrix(test_y, test_predictions))\n",
    "\n",
    "print(\"\\n=========================================================\\n\")\n",
    "modified_accuracy = accuracy_score(test_y, test_predictions)\n",
    "print(\"Accuracy: {}\".format(modified_accuracy))\n",
    "\n",
    "modified_f1 = f1_score(test_y, test_predictions, average='macro')\n",
    "print(\"F1 Score: \", modified_f1)\n",
    "\n",
    "print(\"\\n=========================================================\\n\")\n",
    "print(\"Classification Report:\")\n",
    "print(classification_report(test_y, test_predictions))"
   ]
  },
  {
   "cell_type": "markdown",
   "metadata": {
    "id": "465l-zU1HHjG"
   },
   "source": [
    "**Analisa (berdasarkan hasil yang saya dapatkan ketika menjalankan code ini)**"
   ]
  },
  {
   "cell_type": "markdown",
   "metadata": {
    "id": "hq1pOIsKHUKD"
   },
   "source": [
    "**Untuk imbalanced dataset** (terutama yang sangat imbalanced seperti dataset ini), **metric accuracy sebenarnya dapat menjadi misleading**. Seperti yang kita ketahui, class 0 memiliki data sebesar 99,83% dari keseluruhan dataset. Jika kita membuat model yang selalu memprediksi kelas 0, maka kita akan mendapatkan sebuah model dengan akurasi 99,83% juga. Angka tersebut tampak sangat bagus padahal model dengan akurasi tersebut selalu memprediksi class 0 (tanpa ada process apapun)\n",
    "\n",
    "Itulah sebabnya saat mencoba membuat modified model, **saya lebih berfokus untuk meningkatkan nilai F1-score setinggi mungkin** karena pada imbalanced dataset, nilai precision dan recall jauh lebih berarti dibandingkan accuracy (F1-score merupakan penggabungan dari precision dan recall)\n",
    "\n",
    "\n",
    "---\n",
    "\n",
    "\n",
    "Nilai F1-score dari modified model (93%) ini meningkat drastis dibandingkan dengan nilai F1-score dari baseline model (88%)\n",
    "\n",
    "Terdapat penurunan nilai precision dari baseline model (97%) dibandingkan dengan modified model (94%), tetapi hal ini diimbangi dengan peningkatan yang sangat signifikan pada nilai recallnya (baseline model memiliki recall 82% sedangkan modified model memiliki nilai recall 91%)\n",
    "\n",
    "Akurasi modified model (99.95%) juga sedikit lebih baik dari akurasi baseline model (99.93%)\n",
    "\n",
    "\n",
    "---\n",
    "\n"
   ]
  },
  {
   "cell_type": "markdown",
   "metadata": {
    "id": "-EyEt0H6JBu_"
   },
   "source": [
    "Classification report baseline model yang saya dapatkan:\n",
    "![image.png](data:image/png;base64,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)"
   ]
  },
  {
   "cell_type": "markdown",
   "metadata": {
    "id": "KT5kiw9oJgp7"
   },
   "source": [
    "Classification report modified model yang saya dapatkan:\n",
    "![image.png](data:image/png;base64,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)"
   ]
  },
  {
   "cell_type": "code",
   "execution_count": 155,
   "metadata": {
    "colab": {
     "base_uri": "https://localhost:8080/"
    },
    "id": "X_ehWt2MJfZR",
    "outputId": "2ea57fb7-f101-46a5-dc6f-7b3cdf42ebad"
   },
   "outputs": [
    {
     "name": "stdout",
     "output_type": "stream",
     "text": [
      "Peningkatan akurasi: 0.00021070375052678614\n",
      "Peningkatan F1-score: 0.04753586031816215\n"
     ]
    }
   ],
   "source": [
    "print(\"Peningkatan akurasi: {}\".format(modified_accuracy - baseline_accuracy))\n",
    "print(\"Peningkatan F1-score: {}\".format(modified_f1 - baseline_f1))"
   ]
  }
 ],
 "metadata": {
  "colab": {
   "provenance": []
  },
  "kernelspec": {
   "display_name": "Python 3 (ipykernel)",
   "language": "python",
   "name": "python3"
  },
  "language_info": {
   "codemirror_mode": {
    "name": "ipython",
    "version": 3
   },
   "file_extension": ".py",
   "mimetype": "text/x-python",
   "name": "python",
   "nbconvert_exporter": "python",
   "pygments_lexer": "ipython3",
   "version": "3.9.7"
  }
 },
 "nbformat": 4,
 "nbformat_minor": 1
}
